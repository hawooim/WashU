{
 "cells": [
  {
   "cell_type": "markdown",
   "id": "722aca6a",
   "metadata": {},
   "source": [
    "## Part 2"
   ]
  },
  {
   "cell_type": "markdown",
   "id": "0e1c10f2",
   "metadata": {},
   "source": [
    "Importing numpy, pandas, and pillow "
   ]
  },
  {
   "cell_type": "code",
   "execution_count": 1,
   "id": "223200a3",
   "metadata": {},
   "outputs": [
    {
     "name": "stdout",
     "output_type": "stream",
     "text": [
      "python 3.8.12 (default, Oct 12 2021, 03:01:40) [MSC v.1916 64 bit (AMD64)]\n",
      "numpy 1.19.5\n",
      "pandas 1.3.5\n",
      "pillow 9.0.0\n"
     ]
    }
   ],
   "source": [
    "import sys\n",
    "import numpy as np\n",
    "import pandas as pd\n",
    "import PIL\n",
    "\n",
    "print(\"python\", sys.version)\n",
    "print(\"numpy\", np.__version__)\n",
    "print(\"pandas\", pd.__version__)\n",
    "print(\"pillow\", PIL.__version__)"
   ]
  },
  {
   "cell_type": "markdown",
   "id": "d5942d55",
   "metadata": {},
   "source": [
    "Testing Jupyter Notebook"
   ]
  },
  {
   "cell_type": "code",
   "execution_count": 2,
   "id": "2968a54d",
   "metadata": {},
   "outputs": [
    {
     "name": "stdout",
     "output_type": "stream",
     "text": [
      "whatever u like\n"
     ]
    }
   ],
   "source": [
    "print('whatever u like')"
   ]
  },
  {
   "cell_type": "markdown",
   "id": "224b8092",
   "metadata": {},
   "source": [
    "## Part 3"
   ]
  },
  {
   "cell_type": "code",
   "execution_count": 3,
   "id": "d34e7bba",
   "metadata": {},
   "outputs": [],
   "source": [
    "x = '5'\n",
    "y = 10"
   ]
  },
  {
   "cell_type": "markdown",
   "id": "e7417738",
   "metadata": {},
   "source": [
    "Use a built-in function to find the data type of x"
   ]
  },
  {
   "cell_type": "code",
   "execution_count": 4,
   "id": "b0823f78",
   "metadata": {},
   "outputs": [
    {
     "name": "stdout",
     "output_type": "stream",
     "text": [
      "<class 'str'>\n"
     ]
    }
   ],
   "source": [
    "### BEGIN SOLUTION\n",
    "q1 = type(x)\n",
    "\n",
    "### END SOLUTION\n",
    "print(q1)"
   ]
  },
  {
   "cell_type": "markdown",
   "id": "da089628",
   "metadata": {},
   "source": [
    "Use a built-in function to check whether y is an integer."
   ]
  },
  {
   "cell_type": "code",
   "execution_count": 5,
   "id": "8f00b792",
   "metadata": {},
   "outputs": [
    {
     "name": "stdout",
     "output_type": "stream",
     "text": [
      "True\n"
     ]
    }
   ],
   "source": [
    "### BEGIN SOLUTION\n",
    "q2 = isinstance(y, int)\n",
    "\n",
    "### END SOLUTION\n",
    "print(q2)"
   ]
  },
  {
   "cell_type": "markdown",
   "id": "d5310992",
   "metadata": {},
   "source": [
    "Convert the value of x into integer type"
   ]
  },
  {
   "cell_type": "code",
   "execution_count": 6,
   "id": "798fcf5c",
   "metadata": {},
   "outputs": [
    {
     "name": "stdout",
     "output_type": "stream",
     "text": [
      "5\n"
     ]
    }
   ],
   "source": [
    "### BEGIN SOLUTION\n",
    "q3 = int(x)\n",
    "\n",
    "### END SOLUTION\n",
    "print(q3)"
   ]
  },
  {
   "cell_type": "markdown",
   "id": "dc28ac6b",
   "metadata": {},
   "source": [
    "Raise x to the power of y"
   ]
  },
  {
   "cell_type": "code",
   "execution_count": 7,
   "id": "22decbc9",
   "metadata": {},
   "outputs": [
    {
     "name": "stdout",
     "output_type": "stream",
     "text": [
      "9765625\n"
     ]
    }
   ],
   "source": [
    "### BEGIN SOLUTION\n",
    "q4 = int(x)**y\n",
    "\n",
    "### END SOLUTION\n",
    "print(q4)"
   ]
  },
  {
   "cell_type": "markdown",
   "id": "7f1db262",
   "metadata": {},
   "source": [
    "Print a float to two decimal places without rounding"
   ]
  },
  {
   "cell_type": "code",
   "execution_count": 8,
   "id": "bf57e6f5",
   "metadata": {},
   "outputs": [
    {
     "name": "stdout",
     "output_type": "stream",
     "text": [
      "3.14\n"
     ]
    }
   ],
   "source": [
    "number = 3.14159\n",
    "#Hint: The answer should be 3.14\n",
    "\n",
    "### BEGIN SOLUTION\n",
    "q5 = '{:.2f}'.format(number)\n",
    "\n",
    "### END SOLUTION\n",
    "print(q5)"
   ]
  },
  {
   "cell_type": "markdown",
   "id": "d5e9189f",
   "metadata": {},
   "source": [
    "Change the case of string variable into uppercase (Change sentence into uppercase)"
   ]
  },
  {
   "cell_type": "code",
   "execution_count": 9,
   "id": "deea22ac",
   "metadata": {},
   "outputs": [
    {
     "name": "stdout",
     "output_type": "stream",
     "text": [
      "THIS IS A FIRST ASSIGNMENT\n"
     ]
    }
   ],
   "source": [
    "sentence = 'This is a first assignment'\n",
    "\n",
    "### BEGIN SOLUTION\n",
    "q6_sentence = sentence.upper()\n",
    "\n",
    "### END SOLUTION\n",
    "print(q6_sentence)"
   ]
  },
  {
   "cell_type": "markdown",
   "id": "6eccb118",
   "metadata": {},
   "source": [
    "Replace the word 'FIRST' by 'SECOND' in q6_sentence with uppercase"
   ]
  },
  {
   "cell_type": "code",
   "execution_count": 10,
   "id": "e55d288c",
   "metadata": {},
   "outputs": [
    {
     "name": "stdout",
     "output_type": "stream",
     "text": [
      "THIS IS A SECOND ASSIGNMENT\n"
     ]
    }
   ],
   "source": [
    "### BEGIN SOLUTION\n",
    "q7_sentence = q6_sentence.replace(\"FIRST\", \"SECOND\")\n",
    "\n",
    "### END SOLUTION\n",
    "print(q7_sentence)"
   ]
  },
  {
   "cell_type": "markdown",
   "id": "31b893a6",
   "metadata": {},
   "source": [
    "Split all words inside the q7_sentence into a list of words"
   ]
  },
  {
   "cell_type": "code",
   "execution_count": 11,
   "id": "46f652d0",
   "metadata": {},
   "outputs": [
    {
     "name": "stdout",
     "output_type": "stream",
     "text": [
      "['THIS', 'IS', 'A', 'SECOND', 'ASSIGNMENT']\n"
     ]
    }
   ],
   "source": [
    "#HINT: Your answer should look like ['THIS' , 'IS', 'A', 'SECOND', 'ASSIGNMENT']\n",
    "\n",
    "### BEGIN SOLUTION\n",
    "q8_sentence = q7_sentence.split()\n",
    "\n",
    "### END SOLUTION\n",
    "print(q8_sentence)"
   ]
  },
  {
   "cell_type": "markdown",
   "id": "51c75a0f",
   "metadata": {},
   "source": [
    "Join the words in the list sentence (q8_sentence) into a single string"
   ]
  },
  {
   "cell_type": "code",
   "execution_count": 12,
   "id": "6d1fdd39",
   "metadata": {},
   "outputs": [
    {
     "name": "stdout",
     "output_type": "stream",
     "text": [
      "THIS IS A SECOND ASSIGNMENT\n"
     ]
    }
   ],
   "source": [
    "# The cell should print out 'THIS IS A SECOND ASSIGNMENT'\n",
    "\n",
    "### BEGIN SOLUTION\n",
    "# HINT: use join method\n",
    "q9_sentence  = \" \".join(q8_sentence)\n",
    "### END SOLUTION\n",
    "\n",
    "print(q9_sentence)"
   ]
  },
  {
   "cell_type": "markdown",
   "id": "c355a2da",
   "metadata": {},
   "source": [
    "Convert a tuple into list"
   ]
  },
  {
   "cell_type": "code",
   "execution_count": 13,
   "id": "974a9201",
   "metadata": {},
   "outputs": [
    {
     "name": "stdout",
     "output_type": "stream",
     "text": [
      "['first', 'second', 'third']\n"
     ]
    }
   ],
   "source": [
    "### BEGIN SOLUTION\n",
    "rank = ('first', 'second', 'third')\n",
    "q10_list_rank = list(rank)\n",
    "\n",
    "### END SOLUTION\n",
    "print(q10_list_rank)"
   ]
  },
  {
   "cell_type": "markdown",
   "id": "9d264e57",
   "metadata": {},
   "source": [
    "Append a new value to a list. Append a string 'fourth' to the list q11_rank."
   ]
  },
  {
   "cell_type": "code",
   "execution_count": 14,
   "id": "1ab413ad",
   "metadata": {},
   "outputs": [
    {
     "name": "stdout",
     "output_type": "stream",
     "text": [
      "['first', 'second', 'third', 'fourth']\n"
     ]
    }
   ],
   "source": [
    "q11_rank = ['first', 'second', 'third']\n",
    "\n",
    "### BEGIN SOLUTION\n",
    "# Hint: use append method\n",
    "q11_rank.append('fourth')\n",
    "\n",
    "### END SOLUTION\n",
    "print(q11_rank)"
   ]
  },
  {
   "cell_type": "markdown",
   "id": "c06446ae",
   "metadata": {},
   "source": [
    "combine two lists into one. Extend the value of q12_rank by values of more_ranks list."
   ]
  },
  {
   "cell_type": "code",
   "execution_count": 15,
   "id": "f158c807",
   "metadata": {},
   "outputs": [
    {
     "name": "stdout",
     "output_type": "stream",
     "text": [
      "['first', 'second', 'third', 'fourth', 'fifth', 'sixth', 'seventh']\n"
     ]
    }
   ],
   "source": [
    "q12_rank = q11_rank\n",
    "more_ranks = ['fifth', 'sixth', 'seventh']\n",
    "\n",
    "### BEGIN SOLUTION\n",
    "# Hint: use extend method\n",
    "q12_rank.extend(more_ranks)\n",
    "\n",
    "### END SOLUTION\n",
    "print(q12_rank)"
   ]
  },
  {
   "cell_type": "markdown",
   "id": "01152352",
   "metadata": {},
   "source": [
    "Faker is a Python package that generates fake data for you. We are going to generate some random names and addreess using the faker library in this exercise.\n",
    "Install the faker library from your terminal or here using !pip install faker\n",
    "\n",
    "Notice that the name and addresses are randomly generated. So every time you run the cell below, you will get different names and addresses"
   ]
  },
  {
   "cell_type": "code",
   "execution_count": 16,
   "id": "ed5fd90e",
   "metadata": {},
   "outputs": [
    {
     "name": "stdout",
     "output_type": "stream",
     "text": [
      "Brandi Garrison\n",
      "006 Brandon Run Suite 577\n",
      "Port Jesusbury, MA 26168\n"
     ]
    }
   ],
   "source": [
    "from faker import Faker\n",
    "fake = Faker()\n",
    "print(fake.name())\n",
    "print(fake.address())"
   ]
  },
  {
   "cell_type": "markdown",
   "id": "387fc09c",
   "metadata": {},
   "source": [
    "Create an empty dictionary named person and add 'name' and 'address' keys with their values as empty list"
   ]
  },
  {
   "cell_type": "code",
   "execution_count": 17,
   "id": "ce130000",
   "metadata": {},
   "outputs": [
    {
     "name": "stdout",
     "output_type": "stream",
     "text": [
      "True\n"
     ]
    }
   ],
   "source": [
    "### BEGIN SOLUTION\n",
    "person = {}\n",
    "person['name'] = []\n",
    "person['address'] = [] \n",
    "\n",
    "### END SOLUTION\n",
    "q12 = isinstance(person['name'], list) & isinstance(person['address'], list)\n",
    "print(q12)"
   ]
  },
  {
   "cell_type": "markdown",
   "id": "a11b177c",
   "metadata": {},
   "source": [
    "Append five random names from fake library to the list values of person['name']. Append five random names from fake library to the list values of person['address']"
   ]
  },
  {
   "cell_type": "code",
   "execution_count": 18,
   "id": "6c510a3b",
   "metadata": {},
   "outputs": [
    {
     "name": "stdout",
     "output_type": "stream",
     "text": [
      "(5, 5)\n"
     ]
    }
   ],
   "source": [
    "for i in range(5):\n",
    "    ### BEGIN SOLUTION\n",
    "    person['name'].append(fake.name())\n",
    "    person['address'].append(fake.address())\n",
    "        \n",
    "    ### END SOLUTION\n",
    "\n",
    "q13 = len(person['name']), len(person['address'])\n",
    "print(q13)"
   ]
  },
  {
   "cell_type": "markdown",
   "id": "9b206320",
   "metadata": {},
   "source": [
    "Write a function that truncates a floating point number to three decimal places."
   ]
  },
  {
   "cell_type": "code",
   "execution_count": 19,
   "id": "fefea745",
   "metadata": {},
   "outputs": [
    {
     "name": "stdout",
     "output_type": "stream",
     "text": [
      "3.141\n"
     ]
    }
   ],
   "source": [
    "# if the input to the function is 3.14159, it should return 3.141\n",
    "\n",
    "### BEGIN SOLUTION\n",
    "import math\n",
    "def truncate_float(number):\n",
    "    return math.trunc(number * 10**3) / 10**3\n",
    "\n",
    "### END SOLUTION\n",
    "q14 = truncate_float(3.14159)\n",
    "print(q14)"
   ]
  },
  {
   "cell_type": "markdown",
   "id": "b9be8b3b",
   "metadata": {},
   "source": [
    "Write a function that takes a string as an argument and returns the upercase version of the input."
   ]
  },
  {
   "cell_type": "code",
   "execution_count": 20,
   "id": "42aa82c9",
   "metadata": {},
   "outputs": [
    {
     "name": "stdout",
     "output_type": "stream",
     "text": [
      "True\n"
     ]
    }
   ],
   "source": [
    "### BEGIN SOLUTION\n",
    "def func_uppercase(x):\n",
    "    return x.upper()\n",
    "\n",
    "### END SOlUTION\n",
    "q15 = 'FIRST' == func_uppercase('first')\n",
    "print(q15)"
   ]
  },
  {
   "cell_type": "markdown",
   "id": "f10a2a2a",
   "metadata": {},
   "source": [
    "Write a lambda (anonymous) funtion that returns sum of two numbers."
   ]
  },
  {
   "cell_type": "code",
   "execution_count": 21,
   "id": "36c8db9a",
   "metadata": {},
   "outputs": [
    {
     "name": "stdout",
     "output_type": "stream",
     "text": [
      "30\n"
     ]
    }
   ],
   "source": [
    "### BEGIN SOLUTION\n",
    "q16 = lambda x, y: x + y\n",
    "\n",
    "### END SOLUTION\n",
    "print(q16(10, 20))"
   ]
  },
  {
   "cell_type": "markdown",
   "id": "ffc6227b",
   "metadata": {},
   "source": [
    "Use list comprehension to convert strings in a list into uppercase"
   ]
  },
  {
   "cell_type": "code",
   "execution_count": 22,
   "id": "088c5e92",
   "metadata": {},
   "outputs": [
    {
     "name": "stdout",
     "output_type": "stream",
     "text": [
      "True\n"
     ]
    }
   ],
   "source": [
    "list_lower = [fake.name() for i in range(5)]\n",
    "\n",
    "### BEGIN SOLIUTION\n",
    "list_upper = [i.upper() for i in list_lower]\n",
    "\n",
    "### END SOLUTION\n",
    "q17 =  list_lower[0].upper() == list_upper[0]\n",
    "print(q17)"
   ]
  },
  {
   "cell_type": "markdown",
   "id": "9ff4ad56",
   "metadata": {},
   "source": [
    "Write a map transformation to convert strings in a list to uppercase"
   ]
  },
  {
   "cell_type": "code",
   "execution_count": 23,
   "id": "38c207fa",
   "metadata": {},
   "outputs": [
    {
     "name": "stdout",
     "output_type": "stream",
     "text": [
      "True\n"
     ]
    }
   ],
   "source": [
    "list_lower = [fake.name() for i in range(5)]\n",
    "\n",
    "### BEGIN SOLUTION\n",
    "list_upper = list(map(lambda x: x.upper(), list_lower))\n",
    "\n",
    "### END SOLUTION\n",
    "q18 =  list_lower[2].upper() == list_upper[2]\n",
    "print(q18) "
   ]
  },
  {
   "cell_type": "markdown",
   "id": "5037b9e3",
   "metadata": {},
   "source": [
    "Filter a list of integers to return only prime numbers"
   ]
  },
  {
   "cell_type": "code",
   "execution_count": 24,
   "id": "a7fe3dd1",
   "metadata": {},
   "outputs": [
    {
     "name": "stdout",
     "output_type": "stream",
     "text": [
      "4\n"
     ]
    }
   ],
   "source": [
    "numbers = list(range(10))\n",
    "# select only the prime numbers in the list numbers \n",
    "\n",
    "### BEGIN SOLUTION\n",
    "prime_numbers = []\n",
    "\n",
    "def is_prime_num(n):\n",
    "    for i in range(2, n):\n",
    "        if n % i == 0:\n",
    "            return False\n",
    "    return True \n",
    "\n",
    "for i in numbers:\n",
    "    if i > 1:\n",
    "        if is_prime_num(i) == True:\n",
    "            prime_numbers.append(i)\n",
    "\n",
    "### END SOLUTION\n",
    "q19 = len(prime_numbers)\n",
    "print(q19)"
   ]
  }
 ],
 "metadata": {
  "kernelspec": {
   "display_name": "Python 3 (ipykernel)",
   "language": "python",
   "name": "python3"
  },
  "language_info": {
   "codemirror_mode": {
    "name": "ipython",
    "version": 3
   },
   "file_extension": ".py",
   "mimetype": "text/x-python",
   "name": "python",
   "nbconvert_exporter": "python",
   "pygments_lexer": "ipython3",
   "version": "3.8.12"
  }
 },
 "nbformat": 4,
 "nbformat_minor": 5
}
