{
 "cells": [
  {
   "cell_type": "markdown",
   "metadata": {},
   "source": [
    "# Homework 4\n",
    "\n",
    "In this HW, we will study the pay gap between men and women who have jobs in San Francisco.  We will use the following two csv files to accomplish this task.\n",
    "\n",
    "- Salaries.csv : contains salaries for over 100K employees in SF from 2011 to 2014.\n",
    "- Names.csv :  contains baby names from 1980 to 2014 along with counts of how many times the given baby name was used.\n",
    "\n",
    "We would like to find the average salary of men and women over all jobs from 2011 to 2014.  The problem, however, is that the Salaries.csv does not contain gender.  Futher, there are many names that are unisex.  Since we have counts in the file Names.csv, we use a majority vote to label the gender of each name in Names.csv. \n",
    "\n",
    "You will be asked to write a series of functions to implement this task. \n",
    "\n",
    "**Note: Unlike previous homeworks, the problems in this homework are inter-dependent in the sense that you can only pass the test for problem n if you have passed the test cases in problem n-1, since normally problem n requires to call the function in problem n-1.**\n",
    "\n",
    "\n",
    "## Problem 1 Read the data\n",
    "\n",
    "The following functions **ReadData** will read in the salary and the names data as pandas dataframes and return a list which contains these two dataframes. "
   ]
  },
  {
   "cell_type": "code",
   "execution_count": 1,
   "metadata": {},
   "outputs": [],
   "source": [
    "#Place your import here\n",
    "import pandas as pd\n",
    "import numpy as np\n",
    "\n",
    "def ReadData():\n",
    "    df_salaries = None\n",
    "    df_names = None\n",
    "    \n",
    "    # YOUR CODE HERE\n",
    "    df_salaries = pd.read_csv(\"data/Salaries.csv\")\n",
    "    df_names = pd.read_csv(\"data/Names.csv\")\n",
    "    \n",
    "    return [df_salaries, df_names]"
   ]
  },
  {
   "cell_type": "code",
   "execution_count": 2,
   "metadata": {},
   "outputs": [],
   "source": [
    "[df_salaries, df_names] = ReadData()\n",
    "assert df_salaries.shape == (27386, 6)"
   ]
  },
  {
   "cell_type": "markdown",
   "metadata": {},
   "source": [
    "## Problem 2 Get name counts\n",
    "\n",
    "The following functions **ParseNames** will take the name dataframe as an input. It will then output two dictionaries called male_name and female_name. The key in each of these dictionaries will be the names (in all lowercase) and the value will be the sum of counts for the given name when it applied to the given gender. Note that the same name may appear in both the male and female gender.\n",
    "\n",
    "For this function, USE ONLY ITERROWS(), NO GROUPING OR FILTERING YET! "
   ]
  },
  {
   "cell_type": "code",
   "execution_count": 3,
   "metadata": {},
   "outputs": [],
   "source": [
    "def ParseNames(df_names):\n",
    "    \"\"\"\n",
    "    INPUT: the pandas dataframe contains names.csv\n",
    "    \n",
    "    OUTPUT: two dictionaries: male_names, female_name.\n",
    "    The key in each of these dictionaries will be names \n",
    "    (in all lowercase)and the value will be the sum of the \n",
    "    counts for the given name when it applies to the given gender.\n",
    "    \n",
    "    USE ONLY ITERROWS(), NO GROUPING OR FILTERING YET! \n",
    "    This above function will take a minute or two to run. \n",
    "    \"\"\"\n",
    "    \n",
    "    #Initialize empty dictionaries for names\n",
    "    male_names = {}\n",
    "    female_names = {}\n",
    "    \n",
    "    # YOUR CODE HERE\n",
    "    for i, r in df_names.iterrows():\n",
    "        if r[4] == \"F\":\n",
    "            female_names[r[2].lower()] = r[5]\n",
    "        else:\n",
    "            male_names[r[2].lower()] = r[5]        \n",
    "    \n",
    "    return male_names, female_names"
   ]
  },
  {
   "cell_type": "code",
   "execution_count": 4,
   "metadata": {},
   "outputs": [],
   "source": [
    "[male_names, female_names] = ParseNames(df_names)\n",
    "assert len(male_names) == 9481\n",
    "assert len(female_names) == 15230"
   ]
  },
  {
   "cell_type": "markdown",
   "metadata": {},
   "source": [
    "## Problem 3 Get First Name\n",
    "\n",
    "This following functions **GetFirstName** will take a name of a person (name contains first and last names separated by spaces) and return the lower case of the first name of the person. "
   ]
  },
  {
   "cell_type": "code",
   "execution_count": 5,
   "metadata": {},
   "outputs": [],
   "source": [
    "def GetFirstName(name):\n",
    "    \"\"\"\n",
    "    Gets the first name from a name in the column\n",
    "    EmployeeName in Salaries.csv.\n",
    "    INPUT: name as string\n",
    "    OUTPUT: first name in all lowercase\n",
    "    \"\"\"\n",
    "    first_name = \"\"\n",
    "\n",
    "    # YOUR CODE HERE\n",
    "    first_name = name.split(\" \")[0].lower()\n",
    "    \n",
    "    return first_name"
   ]
  },
  {
   "cell_type": "code",
   "execution_count": 6,
   "metadata": {},
   "outputs": [],
   "source": [
    "assert GetFirstName(\"Dennis Zhang\") == \"dennis\""
   ]
  },
  {
   "cell_type": "markdown",
   "metadata": {},
   "source": [
    "## Problem 4 GetGender\n",
    "\n",
    "This function takes in the dictionary for the male and female names from **ParseNames**, and a first name. It then returns \"M\" if the first name appears more times in male_names than female_names, \"F\" if the first name appears more times in female_names than male_names (or the two fequencies are the same), and \"NA\" if the name does not appear in either male_names nor female_names."
   ]
  },
  {
   "cell_type": "code",
   "execution_count": 7,
   "metadata": {},
   "outputs": [],
   "source": [
    "def AddGender(first_name, male_names, female_names):\n",
    "    \"\"\"\n",
    "    Find the most likely gender associated with a first name.\n",
    "    \n",
    "    INPUT: first_name, males_names and females_names which are the dictionaries \n",
    "    returned from ParseNames().\n",
    "    \n",
    "    OUTPUT:\n",
    "    \"M\" if male_names[name] > female_names[name]\n",
    "    \n",
    "    \"F\" if male_names[name] <= female_names[name]\n",
    "    \n",
    "    \"NaN\" if the name doesn't apper in either dictionary\n",
    "    \"\"\"\n",
    "    \n",
    "    return_gender = \"NA\"\n",
    "    \n",
    "    # YOUR CODE HERE\n",
    "    male_name_counts = male_names.get(first_name, 0)\n",
    "    female_name_counts = female_names.get(first_name, 0)\n",
    "\n",
    "    if male_name_counts == 0 and female_name_counts == 0:\n",
    "        return_gender = \"NaN\"\n",
    "    elif male_name_counts > female_name_counts:\n",
    "        return_gender = \"M\"\n",
    "    else:\n",
    "        return_gender = \"F\"\n",
    "    \n",
    "    return return_gender"
   ]
  },
  {
   "cell_type": "code",
   "execution_count": 8,
   "metadata": {},
   "outputs": [],
   "source": [
    "[df_salaries, df_names] = ReadData()\n",
    "assert AddGender(\"charles\", male_names, female_names) == \"M\"\n",
    "assert AddGender(\"jasmine\", male_names, female_names) == \"F\"\n",
    "assert AddGender(\"dennis\", male_names, female_names) == \"F\""
   ]
  },
  {
   "cell_type": "markdown",
   "metadata": {},
   "source": [
    "## Problem 5 AddGenderToDF\n",
    "\n",
    "This function takes the df_salary dataset and adds a new column called \"gender\". The function will assign gender to each row in df_salary based on the first name of the person as well as the male_names and female_names dictionaries. You should use AddGender() and GetFirstName() to implement this function. The function then returns the dataframe with the new column \"gender\"."
   ]
  },
  {
   "cell_type": "code",
   "execution_count": 9,
   "metadata": {},
   "outputs": [],
   "source": [
    "def AddGenderToDF(df_salaries, male_names, female_names):\n",
    "    \"\"\"\n",
    "    This function will return a new dataframe with two new columns\n",
    "    on top of the existing columns in df_salaries. \n",
    "    \n",
    "    The first column is called \"first_name\" which contains the first\n",
    "    name of the person.\n",
    "    \n",
    "    The second column is called \"gender\" which contains the gender\n",
    "    inforamtion of the person from the AddGender() function.\n",
    "    \"\"\"\n",
    "    \n",
    "    # YOUR CODE HERE\n",
    "    df_salaries['first_name'] = df_salaries['EmployeeName'].apply(GetFirstName)\n",
    "    df_salaries['gender'] = df_salaries['first_name'].apply(lambda x: AddGender(x, male_names, female_names))\n",
    "    \n",
    "    return df_salaries"
   ]
  },
  {
   "cell_type": "code",
   "execution_count": 10,
   "metadata": {},
   "outputs": [],
   "source": [
    "[df_salaries, df_names] = ReadData()\n",
    "df_salaries = AddGenderToDF(df_salaries, male_names, female_names)\n",
    "\n",
    "assert df_salaries[df_salaries[\"EmployeeName\"] == \"GARY JIMENEZ\"][\"first_name\"].tolist()[0] == \"gary\"\n",
    "assert df_salaries[df_salaries[\"EmployeeName\"] == \"GARY JIMENEZ\"][\"gender\"].tolist()[0] == \"M\""
   ]
  },
  {
   "cell_type": "markdown",
   "metadata": {},
   "source": [
    "## Problem 6 Compute the Average Salary\n",
    "\n",
    "In this problem, you will implement a function called **ComputeAvgSalary**. This function takes in the df_salaries dataframe (this dataframe already has a new column called \"gender\", which indicates teh gender\". The function returns two numbers: male_avg_salary and female_avg_salary. male_avg_salary (female_avg_salary) is the average salary for male (female) workers."
   ]
  },
  {
   "cell_type": "code",
   "execution_count": 11,
   "metadata": {},
   "outputs": [],
   "source": [
    "def ComputeAvgSalary(df_salaries):\n",
    "    \"\"\"\n",
    "    This function takes the new salary dataframe with gender and\n",
    "    first_name columns. It returns the the average salary of male\n",
    "    and female workers. \n",
    "    \"\"\"\n",
    "    female_avg_salary = 0\n",
    "    male_avg_salary = 0\n",
    "    \n",
    "    # YOUR CODE HERE\n",
    "    male_total_salary = 0\n",
    "    female_total_salary = 0\n",
    "\n",
    "    male_counts = 0\n",
    "    female_counts = 0\n",
    "\n",
    "    for i, r in df_salaries.iterrows():\n",
    "        if r[7] == \"M\":\n",
    "            male_total_salary += r[4]\n",
    "            male_counts += 1\n",
    "        elif r[7] == \"F\":\n",
    "            female_total_salary += r[4]\n",
    "            female_counts += 1\n",
    "    \n",
    "    male_avg_salary = male_total_salary / male_counts\n",
    "    female_avg_salary = female_total_salary / female_counts\n",
    "    \n",
    "    return [male_avg_salary, female_avg_salary]"
   ]
  },
  {
   "cell_type": "code",
   "execution_count": 12,
   "metadata": {},
   "outputs": [],
   "source": [
    "df_salaries = AddGenderToDF(df_salaries, male_names, female_names)\n",
    "[male_avg_salary, female_avg_salary] = ComputeAvgSalary(df_salaries)\n",
    "assert round(male_avg_salary, 2) == 97798.31\n",
    "assert round(female_avg_salary, 2) == 83261.56"
   ]
  },
  {
   "cell_type": "code",
   "execution_count": 13,
   "metadata": {},
   "outputs": [],
   "source": [
    "# Easier way\n",
    "\n",
    "def ComputeAvgSalary(df_salaries):\n",
    "    \"\"\"\n",
    "    This function takes the new salary dataframe with gender and\n",
    "    first_name columns. It returns the the average salary of male\n",
    "    and female workers. \n",
    "    \"\"\"\n",
    "    male_avg_salary = df_salaries.groupby('gender')['Total_Pay'].mean()['M']\n",
    "    female_avg_salary = df_salaries.groupby('gender')['Total_Pay'].mean()['F']\n",
    "\n",
    "    return [male_avg_salary, female_avg_salary]"
   ]
  },
  {
   "cell_type": "code",
   "execution_count": 14,
   "metadata": {},
   "outputs": [],
   "source": [
    "df_salaries = AddGenderToDF(df_salaries, male_names, female_names)\n",
    "[male_avg_salary, female_avg_salary] = ComputeAvgSalary(df_salaries)\n",
    "assert round(male_avg_salary, 2) == 97798.31\n",
    "assert round(female_avg_salary, 2) == 83261.56"
   ]
  }
 ],
 "metadata": {
  "kernelspec": {
   "display_name": "Python 3 (ipykernel)",
   "language": "python",
   "name": "python3"
  },
  "language_info": {
   "codemirror_mode": {
    "name": "ipython",
    "version": 3
   },
   "file_extension": ".py",
   "mimetype": "text/x-python",
   "name": "python",
   "nbconvert_exporter": "python",
   "pygments_lexer": "ipython3",
   "version": "3.9.7"
  }
 },
 "nbformat": 4,
 "nbformat_minor": 4
}
