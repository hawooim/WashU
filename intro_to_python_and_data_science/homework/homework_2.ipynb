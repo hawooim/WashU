{
 "cells": [
  {
   "cell_type": "markdown",
   "metadata": {
    "deletable": false,
    "editable": false,
    "nbgrader": {
     "checksum": "8687ca8d3d7dc5c23add0dd3d75cb1ba",
     "grade": false,
     "grade_id": "cell-a4c41f39205051c2",
     "locked": true,
     "schema_version": 1,
     "solution": false
    }
   },
   "source": [
    "# Homework 2\n",
    "\n",
    "\n",
    "## Problem 1 (Tuple):\n",
    "\n",
    "Given a list of integers, create a tuple of those integers. Then compute and print the result of hash of the tuple.\n",
    "\n",
    "Note: [hash()](https://docs.python.org/2/library/functions.html#hash) is one of the functions in the __builtins__ module, so it need not be imported.\n",
    "\n",
    "[Here is the tutorial on why hash function is important in computer science.](https://www.hackerearth.com/practice/data-structures/hash-tables/basics-of-hash-tables/tutorial/)\n",
    "\n",
    "\n",
    "Example:\n",
    "\n",
    "    input: int_list = [1, 2, 3]\n",
    "    output: 2528502973977326415"
   ]
  },
  {
   "cell_type": "code",
   "execution_count": null,
   "metadata": {
    "deletable": false,
    "nbgrader": {
     "checksum": "34e860797d5921e75708d41e4964b0a4",
     "grade": false,
     "grade_id": "cell-b78086c290d4a60c",
     "locked": false,
     "schema_version": 1,
     "solution": true
    }
   },
   "outputs": [],
   "source": [
    "def problem1(l):\n",
    "    hash_result = 0\n",
    "    \n",
    "    n = tuple(l)#Transform the list to a tuple\n",
    "    \n",
    "    hash_result=hash(n)\n",
    "\n",
    "    return(hash_result)\n"
   ]
  },
  {
   "cell_type": "code",
   "execution_count": null,
   "metadata": {
    "deletable": false,
    "editable": false,
    "nbgrader": {
     "checksum": "aaa8d8040dbe58e04844a9fe6503ba5b",
     "grade": true,
     "grade_id": "cell-2853176972493b6e",
     "locked": true,
     "points": 10,
     "schema_version": 1,
     "solution": false
    }
   },
   "outputs": [],
   "source": [
    "assert problem1([1, 2, 3]) == 2528502973977326415"
   ]
  },
  {
   "cell_type": "code",
   "execution_count": null,
   "metadata": {
    "deletable": false,
    "editable": false,
    "nbgrader": {
     "checksum": "41493d1c3ed8adf1a147a35799970de6",
     "grade": true,
     "grade_id": "cell-ab1b1d0a5f7b1fce",
     "locked": true,
     "points": 10,
     "schema_version": 1,
     "solution": false
    }
   },
   "outputs": [],
   "source": [
    "assert problem1([1, 2, 3, 4]) == 485696759010151909"
   ]
  },
  {
   "cell_type": "markdown",
   "metadata": {
    "deletable": false,
    "editable": false,
    "nbgrader": {
     "checksum": "8667642c8eaee79c7b3ded36e30dc54f",
     "grade": false,
     "grade_id": "cell-1c14a1786a26dc5a",
     "locked": true,
     "schema_version": 1,
     "solution": false
    }
   },
   "source": [
    "## Problem 2 (Dictionary and String Methods):\n",
    "\n",
    "You have a list of strings which contain student record. Each string contains the student's name, and their grades in Maths, Physics and Chemistry. The grades can be **floating values**. These values (names and grades) are separated by comma. You are required to save the record in a dictionary data type. The user then enters a student's name. Output the average percentage marks obtained by that student, correct to two decimal places.\n",
    "\n",
    "Example:\n",
    "\n",
    "    input:\n",
    "        grades = [\"Jake, 99, 70, 50\", \"Dennis, 100, 100, 98\"]\n",
    "        name = \"Dennis\"\n",
    "    output: \"The average grade of Dennis is 99.33\""
   ]
  },
  {
   "cell_type": "code",
   "execution_count": 1,
   "metadata": {
    "deletable": false,
    "nbgrader": {
     "checksum": "6f1cffbcd07554cd2f967be27554c129",
     "grade": false,
     "grade_id": "cell-562beecb93f03f23",
     "locked": false,
     "schema_version": 1,
     "solution": true
    }
   },
   "outputs": [],
   "source": [
    "def problem2(grades, name):\n",
    "    output = \"\"\n",
    "    \n",
    "    # YOUR CODE HERE\n",
    "    element_dic = {}\n",
    "    \n",
    "    for element in grades:\n",
    "        element_list = element.replace(\" \", \"\").split(\",\")\n",
    "        element_dic[element_list[0]] = (float(element_list[1]), float(element_list[2]), float(element_list[3]))\n",
    "     \n",
    "    average_grade_of_name = round(sum(element_dic[name]) / len(element_dic[name]), 2)\n",
    "    output = \"The average grade of \" + str(name) + \" is \" + str(average_grade_of_name)\n",
    "    print(output)\n",
    "    return(output)"
   ]
  },
  {
   "cell_type": "code",
   "execution_count": 2,
   "metadata": {
    "deletable": false,
    "editable": false,
    "nbgrader": {
     "checksum": "511ffea51a67ce37059cddb3ba889fae",
     "grade": true,
     "grade_id": "cell-681343a4d7e22bbd",
     "locked": true,
     "points": 10,
     "schema_version": 1,
     "solution": false
    }
   },
   "outputs": [
    {
     "name": "stdout",
     "output_type": "stream",
     "text": [
      "The average grade of Dennis is 99.33\n"
     ]
    }
   ],
   "source": [
    "grades = [\"Jake, 99, 70, 54\", \"Dennis, 100, 100, 98\"]\n",
    "name = \"Dennis\"\n",
    "assert problem2(grades, \"Dennis\") == \"The average grade of Dennis is 99.33\""
   ]
  },
  {
   "cell_type": "code",
   "execution_count": 3,
   "metadata": {
    "deletable": false,
    "editable": false,
    "nbgrader": {
     "checksum": "e19df70b1b38114ebb17ef3ffc0b7766",
     "grade": true,
     "grade_id": "cell-402bf89f76c4bd42",
     "locked": true,
     "points": 10,
     "schema_version": 1,
     "solution": false
    }
   },
   "outputs": [
    {
     "name": "stdout",
     "output_type": "stream",
     "text": [
      "The average grade of Jake is 74.67\n"
     ]
    }
   ],
   "source": [
    "grades = [\"Jake, 99, 70, 55\", \"Dennis, 100, 100, 98\"]\n",
    "name = \"Jake\"\n",
    "assert problem2(grades, \"Jake\") == \"The average grade of Jake is 74.67\""
   ]
  },
  {
   "cell_type": "markdown",
   "metadata": {
    "deletable": false,
    "editable": false,
    "nbgrader": {
     "checksum": "18e8aed1fbe12e51dcb8a8fcda292650",
     "grade": false,
     "grade_id": "cell-a1c33503efa5fb31",
     "locked": true,
     "schema_version": 1,
     "solution": false
    }
   },
   "source": [
    "## Problem 3 (List Methods):\n",
    "\n",
    "You are given N positive numbers. Store them in a list and find the second largest number.\n",
    "(If there are two largest numbers, the second largest number must be smaller than both of them)\n",
    "\n",
    "Example:\n",
    "\n",
    "    input: int_list = [1,3,1,4,4,2]\n",
    "    ouput: 3"
   ]
  },
  {
   "cell_type": "code",
   "execution_count": 4,
   "metadata": {
    "deletable": false,
    "nbgrader": {
     "checksum": "63cef3505540dc87062eeb951afc40a0",
     "grade": false,
     "grade_id": "cell-f16b41b82fe73df0",
     "locked": false,
     "schema_version": 1,
     "solution": true
    }
   },
   "outputs": [],
   "source": [
    "def problem3(int_list):\n",
    "    second_largest = 0\n",
    "    \n",
    "    # YOUR CODE HERE\n",
    "    largest = max(int_list)\n",
    "    \n",
    "    while True:\n",
    "        if largest - 1 in int_list:\n",
    "            second_largest = largest - 1\n",
    "            break\n",
    "        else:\n",
    "            largest -= 1\n",
    "    \n",
    "    return(second_largest)"
   ]
  },
  {
   "cell_type": "code",
   "execution_count": 5,
   "metadata": {
    "deletable": false,
    "editable": false,
    "nbgrader": {
     "checksum": "841844151e0924bcbaafe650449c9861",
     "grade": true,
     "grade_id": "cell-b9a67e5a1cc6b7eb",
     "locked": true,
     "points": 10,
     "schema_version": 1,
     "solution": false
    }
   },
   "outputs": [],
   "source": [
    "assert problem3([1,3,1,4,4,2]) == 3"
   ]
  },
  {
   "cell_type": "code",
   "execution_count": 6,
   "metadata": {
    "deletable": false,
    "editable": false,
    "nbgrader": {
     "checksum": "4ed56cb9eca2dd80395ccf1092ece318",
     "grade": true,
     "grade_id": "cell-2e2644d4a46134fc",
     "locked": true,
     "points": 10,
     "schema_version": 1,
     "solution": false
    }
   },
   "outputs": [],
   "source": [
    "assert problem3([1,2,3]) == 2"
   ]
  },
  {
   "cell_type": "markdown",
   "metadata": {
    "deletable": false,
    "editable": false,
    "nbgrader": {
     "checksum": "507e4a25b057c1368efbc0cf18a37f11",
     "grade": false,
     "grade_id": "cell-011f5e9600e03210",
     "locked": true,
     "schema_version": 1,
     "solution": false
    }
   },
   "source": [
    "## Problem 4 (All-in-one: list + string + file read):\n",
    "\n",
    "We downloaded several stock's daily level data for you in ./data/hw2_data/stock_data/. You will write code that takes stock tickers as inputs and output one dictinoary. The dictionary uses the stock tickers as keys and the values are these stocks' average open prices in 2017 (until the end of the file).\n",
    "\n",
    "Exmaple:\n",
    "\n",
    "    input: tickers = [\"AAPL\"]\n",
    "    output: {'AAPL': 143.465799260355}\n"
   ]
  },
  {
   "cell_type": "code",
   "execution_count": 7,
   "metadata": {
    "deletable": false,
    "nbgrader": {
     "checksum": "0565db99f763ff85b4cc82dfa17df2ec",
     "grade": false,
     "grade_id": "cell-0b99248c6f4c937e",
     "locked": false,
     "schema_version": 1,
     "solution": true
    }
   },
   "outputs": [],
   "source": [
    "def problem4(tickers):\n",
    "    file_location = \"./data/stock_data/\"\n",
    "    return_dict = {}\n",
    "    for ticker in tickers:\n",
    "        f=open(\"%s%s.csv\"%(file_location,ticker))\n",
    "        lines=f.readlines()\n",
    "        avg_stock_oprice={}\n",
    "        total_oprice=0\n",
    "        for line in lines[1:]:\n",
    "            parse_line=line.strip(\"/n.,\").split(\",\")\n",
    "            total_oprice+=float(parse_line[2])\n",
    "        return_dict[ticker]=total_oprice/(len(lines)-1)  \n",
    "    \n",
    "    return(return_dict)"
   ]
  },
  {
   "cell_type": "code",
   "execution_count": 8,
   "metadata": {
    "deletable": false,
    "editable": false,
    "nbgrader": {
     "checksum": "1d1d2991bbc9659055dc041ec6c33b2b",
     "grade": true,
     "grade_id": "cell-59169f1e7e9bdbdc",
     "locked": true,
     "points": 10,
     "schema_version": 1,
     "solution": false
    }
   },
   "outputs": [],
   "source": [
    "assert problem4([\"AAPL\"]) == {'AAPL': 143.465799260355}"
   ]
  },
  {
   "cell_type": "code",
   "execution_count": 9,
   "metadata": {
    "deletable": false,
    "editable": false,
    "nbgrader": {
     "checksum": "43e0c9a85ea5857ebe0ddadf188a4d68",
     "grade": true,
     "grade_id": "cell-14e4a8c2e0fdedf6",
     "locked": true,
     "points": 10,
     "schema_version": 1,
     "solution": false
    }
   },
   "outputs": [],
   "source": [
    "assert problem4([\"AAPL\", \"GOOG\"]) == {'AAPL': 143.465799260355, 'GOOG': 884.3826611893493}"
   ]
  },
  {
   "cell_type": "markdown",
   "metadata": {
    "deletable": false,
    "editable": false,
    "nbgrader": {
     "checksum": "48182f6d9c9b2bdcfe436587f3fc88da",
     "grade": false,
     "grade_id": "cell-f788f24e3b032440",
     "locked": true,
     "schema_version": 1,
     "solution": false
    }
   },
   "source": [
    "## Problem 5 (Power Set Problem) \n",
    "\n",
    "For a given list L, generate a list of lists which contain all subsets of L.  You are not allowed to use Python helper packages to do this.\n",
    "\n",
    "Example:\n",
    "\n",
    "Input: \n",
    "\n",
    "    L = [1,2]\n",
    "\n",
    "Output:\n",
    "\n",
    "    power_set = [[], [1], [2], [1,2]]"
   ]
  },
  {
   "cell_type": "code",
   "execution_count": 10,
   "metadata": {
    "deletable": false,
    "nbgrader": {
     "checksum": "ff184c6bdfd7292c5ce34c8649de4713",
     "grade": false,
     "grade_id": "cell-d3b79352a6e89063",
     "locked": false,
     "schema_version": 1,
     "solution": true
    }
   },
   "outputs": [],
   "source": [
    "def problem5(original_set):\n",
    "    power_set = [[]]\n",
    "    l=original_set\n",
    "    for i in range(len(l)):     \n",
    "        for j in range(len(power_set)): \n",
    "            sub_List = power_set[j] + [l[i]]\n",
    "            if sub_List not in l:\n",
    "                power_set.append(sub_List)\n",
    "    return(power_set)\n"
   ]
  },
  {
   "cell_type": "code",
   "execution_count": 11,
   "metadata": {
    "deletable": false,
    "editable": false,
    "nbgrader": {
     "checksum": "23073b2fe567a964d826aae48e9de415",
     "grade": true,
     "grade_id": "cell-a2097c9f7e471e1c",
     "locked": true,
     "points": 10,
     "schema_version": 1,
     "solution": false
    }
   },
   "outputs": [],
   "source": [
    "assert sorted(problem5([1])) == sorted([[], [1]])"
   ]
  },
  {
   "cell_type": "code",
   "execution_count": 12,
   "metadata": {
    "deletable": false,
    "editable": false,
    "nbgrader": {
     "checksum": "1ef1917bcc6bc1e4761071eae1ea6f01",
     "grade": true,
     "grade_id": "cell-cfabbede7b5a2d5b",
     "locked": true,
     "points": 10,
     "schema_version": 1,
     "solution": false
    }
   },
   "outputs": [],
   "source": [
    "assert sorted(problem5([1, 2])) == sorted([[], [1], [2], [1,2]])"
   ]
  },
  {
   "cell_type": "code",
   "execution_count": null,
   "metadata": {},
   "outputs": [],
   "source": []
  }
 ],
 "metadata": {
  "kernelspec": {
   "display_name": "Python 3 (ipykernel)",
   "language": "python",
   "name": "python3"
  },
  "language_info": {
   "codemirror_mode": {
    "name": "ipython",
    "version": 3
   },
   "file_extension": ".py",
   "mimetype": "text/x-python",
   "name": "python",
   "nbconvert_exporter": "python",
   "pygments_lexer": "ipython3",
   "version": "3.9.7"
  },
  "toc": {
   "colors": {
    "hover_highlight": "#DAA520",
    "navigate_num": "#000000",
    "navigate_text": "#333333",
    "running_highlight": "#FF0000",
    "selected_highlight": "#FFD700",
    "sidebar_border": "#EEEEEE",
    "wrapper_background": "#FFFFFF"
   },
   "moveMenuLeft": true,
   "nav_menu": {
    "height": "30px",
    "width": "252px"
   },
   "navigate_menu": true,
   "number_sections": true,
   "sideBar": true,
   "skip_h1_title": false,
   "threshold": 4,
   "toc_cell": false,
   "toc_position": {},
   "toc_section_display": "block",
   "toc_window_display": false,
   "widenNotebook": false
  }
 },
 "nbformat": 4,
 "nbformat_minor": 2
}
