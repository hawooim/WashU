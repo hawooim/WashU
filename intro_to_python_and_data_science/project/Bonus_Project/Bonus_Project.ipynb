{
 "cells": [
  {
   "cell_type": "markdown",
   "metadata": {
    "deletable": false,
    "editable": false,
    "nbgrader": {
     "checksum": "1e808945020b4384b470102a58e8ec46",
     "grade": false,
     "grade_id": "cell-42e0aea8cfd7c364",
     "locked": true,
     "schema_version": 1,
     "solution": false
    }
   },
   "source": [
    "# Bonus Project 1: Recommder System for Movies\n",
    "\n",
    "In this project, you will implement a recommender system for your classmates, professor and TAs based on the movie survey we have conducted. The movie preference file is at **./data/movie_preference.csv**\n",
    "\n",
    "## Recommender System\n",
    "\n",
    "The objective of a Recommender System is to recommend relevant items for users, based on their preference. Recommender system is prevalent in the digital space. For example, when you go shopping on Amazon, you will notice that Amazon is recommending products on the front page before you even type anything in the search box. Similarly, when you go on YouTube, the top bar of Youtube is typically \"videos recommended to you.\" All these features are based on recommmender system. \n",
    "\n",
    "What item to recommend to which user is arguably the most important business decision in many digital platforms. For instance, YouTube cannot control which videos that users upload to it. It cannot control which videos users like to watch. Moreoveor, since watching videos is free, YouTube cannot change the price of its items. It does not have inventory either since each video can be viewed as many times as possible. In this case, what could YouTube control? Or in other words, what differentiates a good video streaming service from a bad one? The answer is recommender system. \n",
    "\n",
    "## Types of Recommender Systems\n",
    "\n",
    "There are **three** types of recommender system. **In this bonus project, we will implement the first one.**\n",
    "\n",
    "### Popularity-based Recommendation \n",
    "\n",
    "The most obvious system is popularity-based recommendation. In this case, this model recommends to a user the most popular items that the user has not previously consumed. In the movie setting, we will recommend the movie that most users have liked and consumed. In other words, this system utilizes the \"widom of the crowds.\" It usually provides good recommendations for most of the people. Since it is easy to implement, people normally use popularity-based recommendation as a baseline. *Note: this system is not personalized. If both consumers did not watch Movie A and Movie A is the most popular one, both of them will be recommended Movie A.*\n",
    "\n",
    "### Content-based Recommendation \n",
    "\n",
    "This recommender system leverages the data of one customer's historical actions. This recommender systems first utilizes a set of features to describe an item (for example, for movies, we can use the movie's director, main actor, main actress, genre, etc. to describe the movie). When a user comes in, the system will recommend the movies that are closest to the movie that the users have consumed and liked before in terms of the features. For instance, if a user likes action move from Nolan the most, this system will recommend another action movie from Nolan that this user has not consumed. *Note: we will not implement this system in this bonus project since it requires knowledge about supervised learning. We will come back to this topic at the end of this semester.*\n",
    "\n",
    "### Collaborative Filtering Recommendation\n",
    "\n",
    "The last type of recommender system is called collaborative filtering. This approach uses the memory of previous users interactions to compute users similarities based on items they've interacted (user-based approach) or compute items similarities based on the users that have interacted with them (item-based approach).\n",
    "\n",
    "A typical example of this approach is User Neighbourhood-based CF, in which the top-N similar users (usually computed using Pearson correlation) for a user are selected and used to recommend items those similar users liked, but the current user have not interacted yet. "
   ]
  },
  {
   "cell_type": "markdown",
   "metadata": {
    "deletable": false,
    "editable": false,
    "nbgrader": {
     "checksum": "329e0516e78730faee76340877db1349",
     "grade": false,
     "grade_id": "cell-4108a0d7ed105cda",
     "locked": true,
     "schema_version": 1,
     "solution": false
    }
   },
   "source": [
    "## Read-in the preference file\n",
    "\n",
    "The first exercise is to read in the movie preference csv file. \n",
    "\n",
    "It returns two things:\n",
    "\n",
    "1. A dictionary where the key is username and the value is a vector of (-1, 0, 1) that indicates the users preference across movies (in the order of the csv file). \n",
    "\n",
    "2. A list of strings that indicate the order of column names.\n",
    "\n",
    "3. A data frame that contains the csv file.\n",
    "\n",
    "**Hint:**\n",
    "1. In order to get columns you can use **df.columns.** This will return an index list, you can cast it using list().\n",
    "\n",
    "2. You can use **df.values.tolist()** to transform a dafaframe into a list of lists, where each sub-list contains a row of the original data frame. You can then transform this list into the "
   ]
  },
  {
   "cell_type": "code",
   "execution_count": 1,
   "metadata": {
    "deletable": false,
    "nbgrader": {
     "checksum": "4d41063fa64a5ca23534909aa0fbcf38",
     "grade": false,
     "grade_id": "cell-a6c5818775a784d8",
     "locked": false,
     "schema_version": 1,
     "solution": true
    }
   },
   "outputs": [],
   "source": [
    "import pandas as pd\n",
    "def read_in_movie_preference():\n",
    "    file_location = \"movie_preference.csv\"\n",
    "    df = None\n",
    "    column_names = []\n",
    "    preference = {}\n",
    "    \n",
    "    # YOUR CODE HERE\n",
    "    df = pd.read_csv(file_location)\n",
    "    column_names = list(df.columns[1:])\n",
    "    preference = {i[0] : i[1:] for i in df.values.tolist()}\n",
    "    \n",
    "    return [df, column_names, preference]"
   ]
  },
  {
   "cell_type": "code",
   "execution_count": 2,
   "metadata": {
    "deletable": false,
    "editable": false,
    "nbgrader": {
     "checksum": "2e21dd45d0c56f02ba7785961cec0949",
     "grade": true,
     "grade_id": "cell-929841808982401b",
     "locked": true,
     "points": 15,
     "schema_version": 1,
     "solution": false
    }
   },
   "outputs": [],
   "source": [
    "[df, column_names, preference] = read_in_movie_preference()\n",
    "assert df.shape == (186, 21)"
   ]
  },
  {
   "cell_type": "code",
   "execution_count": 3,
   "metadata": {
    "deletable": false,
    "editable": false,
    "nbgrader": {
     "checksum": "3bbae989d4a39c996b9c81fca99bd872",
     "grade": true,
     "grade_id": "cell-584dd2cc560c8564",
     "locked": true,
     "points": 15,
     "schema_version": 1,
     "solution": false
    }
   },
   "outputs": [],
   "source": [
    "[df, column_names, preference] = read_in_movie_preference()\n",
    "assert column_names == ['The Shawshank Redemption', 'The Godfather',\n",
    "                       'The Dark Knight ', 'Star Wars: The Force Awakens',\n",
    "                       'The Lord of the Rings: The Return of the King',\n",
    "                       'Inception', 'The Matrix ', 'Avengers: Infinity War ',\n",
    "                       'Interstellar ', 'Spirited Away', 'Coco', 'The Dark Knight Rises',\n",
    "                       'Braveheart', 'The Wolf of Wall Street', 'Gone Girl ', 'La La Land',\n",
    "                       'Shutter Island', 'Ex Machina', 'The Martian', 'Kingsman: The Secret Service']"
   ]
  },
  {
   "cell_type": "code",
   "execution_count": 4,
   "metadata": {
    "deletable": false,
    "editable": false,
    "nbgrader": {
     "checksum": "470f5f0a56ddc12e1dcf21986ecd5785",
     "grade": true,
     "grade_id": "cell-53441cb01fcbec27",
     "locked": true,
     "points": 15,
     "schema_version": 1,
     "solution": false
    }
   },
   "outputs": [],
   "source": [
    "[df, column_names, preference] = read_in_movie_preference()\n",
    "assert preference[\"DJZ\"] == [0, 1, 1, 0, 1, 1, 1, -1, 1, 1, 0, -1, -1, -1, 1, -1, 1, -1, 1, -1]"
   ]
  },
  {
   "cell_type": "markdown",
   "metadata": {
    "deletable": false,
    "editable": false,
    "nbgrader": {
     "checksum": "95797752eb012ab18e1b87e9a677f633",
     "grade": false,
     "grade_id": "cell-9cc0fd2029104195",
     "locked": true,
     "schema_version": 1,
     "solution": false
    }
   },
   "source": [
    "## Compute the ranking of most popular movies\n",
    "\n",
    "Your next task is to take the movie preference dataframe and computes the popular ranking of movies from the most popular to the least popular. You should return a list where each element represents the popularity ranking of the movies. The order of the list should reflect the order of the movie names in the dataframe. \n",
    "\n",
    "In the process to compute a movie's popularity, you should treat a user's like of the moive as 1, the user's dislike of the movie as -1, and ignores if a user has not watched the movie. In other worsd, **the most popular movie is the movie with the highest Num_of_likes - Num_of_Dislikes.**\n"
   ]
  },
  {
   "cell_type": "code",
   "execution_count": 5,
   "metadata": {
    "deletable": false,
    "nbgrader": {
     "checksum": "b6ed6db6371110884a7ade8973992d2a",
     "grade": false,
     "grade_id": "cell-330ba96678776e4a",
     "locked": false,
     "schema_version": 1,
     "solution": true
    }
   },
   "outputs": [],
   "source": [
    "def movies_popularity_ranking(df, movie_names):\n",
    "    movie_popularity_rank = []\n",
    "    \n",
    "    # YOUR CODE HERE\n",
    "    movie_popularity_sum = []\n",
    "\n",
    "    for i in movie_names:\n",
    "        movie_popularity_sum.append(df[i].sum())\n",
    "        \n",
    "    movie_popularity_sum_sorted = sorted(movie_popularity_sum, reverse = True)\n",
    "    \n",
    "    for i in movie_popularity_sum:\n",
    "        movie_popularity_rank.append(movie_popularity_sum_sorted.index(i)+1)  \n",
    "    \n",
    "    return movie_popularity_rank"
   ]
  },
  {
   "cell_type": "code",
   "execution_count": 6,
   "metadata": {
    "deletable": false,
    "editable": false,
    "nbgrader": {
     "checksum": "01a85ba0f88c2313cb7737947b5bf775",
     "grade": true,
     "grade_id": "cell-7896e9671c2b7713",
     "locked": true,
     "points": 25,
     "schema_version": 1,
     "solution": false
    }
   },
   "outputs": [],
   "source": [
    "[df, movie_names, preference] = read_in_movie_preference()\n",
    "movie_popularity_rank = movies_popularity_ranking(df, movie_names)\n",
    "assert movie_popularity_rank == [2, 9, 7, 19, 9, 1, 13, 7, 5, 11, 3, 15, 18, 12, 14, 6, 17, 20, 16, 4]"
   ]
  },
  {
   "cell_type": "markdown",
   "metadata": {
    "deletable": false,
    "editable": false,
    "nbgrader": {
     "checksum": "80b8f668751ff1a03b98857f478bad28",
     "grade": false,
     "grade_id": "cell-4e5bda9e37c1f991",
     "locked": true,
     "schema_version": 1,
     "solution": false
    }
   },
   "source": [
    "## Recommendation\n",
    "\n",
    "Last, you will implement a recommendation function. This function will take in a user's name, it will return a string representing the name of the top movie that this user has not watched and has best popularity ranking (i.e., lowest ranking number). If the user name does not exit, this function should return an empty string. If the user has watched all movies, this function should return an empty string."
   ]
  },
  {
   "cell_type": "code",
   "execution_count": 7,
   "metadata": {
    "deletable": false,
    "nbgrader": {
     "checksum": "ec8adf2dcfbc6f7a46fb67ab9544ae16",
     "grade": false,
     "grade_id": "cell-3cf2c39ef6f2c170",
     "locked": false,
     "schema_version": 1,
     "solution": true
    }
   },
   "outputs": [],
   "source": [
    "def Recommendation(movie_popularity_ranking, preference, movie_names, name):\n",
    "    recommended_movie = \"\"\n",
    "    \n",
    "    # YOUR CODE HERE\n",
    "    if name in list(df.iloc[:, 0]):\n",
    "\n",
    "        for i in sorted(movie_popularity_rank):\n",
    "            if preference[name][movie_popularity_ranking.index(i)] == 0:\n",
    "                return movie_names[movie_popularity_ranking.index(i)]  \n",
    "    \n",
    "    else:\n",
    "        return \"\" "
   ]
  },
  {
   "cell_type": "code",
   "execution_count": 8,
   "metadata": {
    "deletable": false,
    "editable": false,
    "nbgrader": {
     "checksum": "bcb8a8f4bd1fa761e39c96cf7487b157",
     "grade": true,
     "grade_id": "cell-6425dc4f6facbbba",
     "locked": true,
     "points": 30,
     "schema_version": 1,
     "solution": false
    }
   },
   "outputs": [],
   "source": [
    "[df, movie_names, preference] = read_in_movie_preference()\n",
    "movie_popularity_rank = movies_popularity_ranking(df, movie_names)\n",
    "assert Recommendation(movie_popularity_rank, preference, movie_names, \"DJZ\") == 'The Shawshank Redemption'"
   ]
  },
  {
   "cell_type": "code",
   "execution_count": 9,
   "metadata": {},
   "outputs": [
    {
     "name": "stdout",
     "output_type": "stream",
     "text": [
      "DJZ: The Shawshank Redemption\n",
      "Bing He: Inception\n",
      "Yu : Inception\n",
      "Kelly Hsieh: The Martian\n",
      "Chris Chen: Inception\n",
      "Christin: The Shawshank Redemption\n",
      "chenxi: Coco\n",
      "Shirley Wei: The Dark Knight \n",
      "Carina Cao: The Dark Knight \n",
      "Minghao Yang: Coco\n",
      "Anna Qian: Coco\n",
      "Jiaqi: Coco\n",
      "Nata: Inception\n",
      "Tian Shan: The Dark Knight \n",
      "lei cao: The Dark Knight \n",
      "Yiwen Xu: La La Land\n",
      "shiqi liu: Inception\n",
      "Yarong Xu: Inception\n",
      "salihtutun: Interstellar \n",
      "Shang Chen: Inception\n",
      "chaoran xie: Inception\n",
      "hongyu chen: The Shawshank Redemption\n",
      "Selina Gong: Kingsman: The Secret Service\n",
      "zoe: Inception\n",
      "Yenan: None\n",
      "Yijun Cao: Inception\n",
      "Melody: The Dark Knight \n",
      "Kim: Gone Girl \n",
      "lxy: Inception\n",
      "XIN LI: Coco\n",
      "yoga wang: Coco\n",
      "Jeffers: Coco\n",
      "Luyao Cheng: None\n",
      "siyi: The Godfather\n",
      "Yiquan Wen: The Shawshank Redemption\n",
      "Jingyao Gong : Inception\n",
      "Siqi Li: Inception\n",
      "MZ: Kingsman: The Secret Service\n",
      "Mike Cai: Inception\n",
      "Candice Han: Kingsman: The Secret Service\n",
      "Xixi: Coco\n",
      "peiyilin: The Shawshank Redemption\n",
      "Orange: Kingsman: The Secret Service\n",
      "Ziwei: The Godfather\n",
      "Blair Xu: Inception\n",
      "Liang : None\n",
      "Taryn: The Dark Knight \n",
      "Yunqing Liu: The Shawshank Redemption\n",
      "Fangyu Yu: Interstellar \n",
      "Rachel: The Dark Knight \n",
      "Qi Mi: Inception\n",
      "Alex Zhang: The Dark Knight \n",
      "Bozhao: The Dark Knight \n",
      "Ningxiao: The Godfather\n",
      "Lu Jiang: Star Wars: The Force Awakens\n",
      "Jiashan Li: Inception\n",
      "Yiqian He: Inception\n",
      "Jincong Wang: Kingsman: The Secret Service\n",
      "Jade: Coco\n",
      "Jueyan Lin: The Shawshank Redemption\n",
      "Doudou: Coco\n",
      "Yuhan Jiao: Inception\n",
      "Sandy Sun: The Dark Knight \n",
      "Jack Ma: Kingsman: The Secret Service\n",
      "Siliang Chen: Kingsman: The Secret Service\n",
      "Vince: The Shawshank Redemption\n",
      "Shiyue Zhang: None\n",
      "cheryl jiang: Inception\n",
      "Xueyin (Mia) Wang: Inception\n",
      "Yiang Wang: Inception\n",
      "gm: The Shawshank Redemption\n",
      "Ryan: Interstellar \n",
      "QC: Inception\n",
      "Katrina: Kingsman: The Secret Service\n",
      "Ruoyun Yin: None\n",
      "Teddy Jin: The Dark Knight \n",
      "Chloe Liu: The Matrix \n",
      "Kristen Xin: None\n",
      "Jessica Shen: The Godfather\n",
      "Abby: The Shawshank Redemption\n",
      "LYR: The Shawshank Redemption\n",
      "Yiran Zhi: Kingsman: The Secret Service\n",
      "JJN: Interstellar \n",
      "Kristen Xie: The Shawshank Redemption\n",
      "Sharon: Interstellar \n",
      "mr.tutun: None\n",
      "Qing Teng: La La Land\n",
      "Scarlett(Xin) Guan: Inception\n",
      "Wenyu Wang: Coco\n",
      "Zhuo Li: Coco\n",
      "Scott: The Shawshank Redemption\n",
      "Jasmine: Coco\n",
      "Ruoyun Yin: None\n",
      "Jameel Awad: Inception\n",
      "Jiajia Hao: Kingsman: The Secret Service\n",
      "Dylan: Kingsman: The Secret Service\n",
      "Liuxingyuan Cao: Coco\n",
      "Robert Woody: Kingsman: The Secret Service\n",
      "Dennis Xiong: The Shawshank Redemption\n",
      "Chris Naegele: Coco\n",
      "corrine: Inception\n",
      "Zhijie Huang: Coco\n",
      "Edison Lu: Gone Girl \n",
      "Eileen Zhang: None\n",
      "Chloe Han: The Dark Knight \n",
      "corrine: Inception\n",
      "Eudora: The Godfather\n",
      "Katyduckky: Inception\n",
      "Pamela Chen: The Shawshank Redemption\n",
      "Monica Cheng: Gone Girl \n",
      "KKK: Inception\n",
      "Songyi Wang: The Godfather\n",
      "ssshirley: Coco\n",
      "Emma: The Shawshank Redemption\n",
      "Xiangyu Liu: Kingsman: The Secret Service\n",
      "Harvey Kuang: Coco\n",
      "Ziyue Wu: Coco\n",
      "Charlie: Coco\n",
      "Yujin Chen: Coco\n",
      "cosine : Inception\n",
      "Cici Dong: Inception\n",
      "Kunnan Liu: Interstellar \n",
      "Shengyi Wang: The Shawshank Redemption\n",
      "Allan: Coco\n",
      "Peilun Li: Inception\n",
      "Li Dong: Inception\n",
      "Wenshu Wang: The Shawshank Redemption\n",
      "Chuyi Zhang: The Godfather\n",
      "Yikai Fan: Coco\n",
      "Xinyi Yu: Coco\n",
      "Wency(Wenjing) Li: La La Land\n",
      "Hanyu Zhang: The Dark Knight \n",
      "Devin: Kingsman: The Secret Service\n",
      "Zilun Xu: Interstellar \n",
      "Sylvia Dai: Kingsman: The Secret Service\n",
      "Kevin Qian: Inception\n",
      "Jolly Zhou: Inception\n",
      "Wendy: Inception\n",
      "Baixue Zheng: Coco\n",
      "Haiyi Yu: Inception\n",
      "Jackson Han: Inception\n",
      "Lora Kang: Inception\n",
      "Harry Wang: Interstellar \n",
      "Yizhi Jiang: Inception\n",
      "BILL: Coco\n",
      "Junxin Huang: Coco\n",
      "Xinying Li: The Godfather\n",
      "Jenny Wang: The Shawshank Redemption\n",
      "yvonne: The Shawshank Redemption\n",
      "Yuzhou Chen : Coco\n",
      "Jared Kramer: Inception\n",
      "Student1: The Shawshank Redemption\n",
      "Yudong: The Shawshank Redemption\n",
      "Jerry: The Dark Knight \n",
      "Selina: Inception\n",
      "Wenbin Tang: The Godfather\n",
      "Chongyang Wang: Inception\n",
      "Lifan Zhang: Spirited Away\n",
      "Zhiyuan cheng: Coco\n",
      "Aria(Sining) Ren: Inception\n",
      "Caroline Yang : Coco\n",
      "Soldier 76: The Shawshank Redemption\n",
      "Vera Fei: The Shawshank Redemption\n",
      "Chi nguyen: Inception\n",
      "Jinxin Zhou: The Martian\n",
      "canghany: The Shawshank Redemption\n",
      "viki: The Shawshank Redemption\n",
      "Xiaoye Yang: Inception\n",
      "Cindy Chou: The Shawshank Redemption\n",
      "Leo Li: Inception\n",
      "Shuangyi Yan: The Godfather\n",
      "Yuqi Shen: None\n",
      "yidan: Interstellar \n",
      "Jack You: Kingsman: The Secret Service\n",
      "Bassia: Inception\n",
      "Zhaoyuan Liu: Shutter Island\n",
      "Julia Huang: The Shawshank Redemption\n",
      "Yuxuan Ren: Inception\n",
      "Lisu Jiang: Inception\n",
      "Pong Shao: Inception\n",
      "Zhu (Fiona) Liu: Kingsman: The Secret Service\n",
      "Ming Huang: The Shawshank Redemption\n",
      "Lucia Zhang: Coco\n",
      "Jin Hu: Interstellar \n",
      "Lihui Jiang: None\n",
      "Zhuoqing Bao: Coco\n"
     ]
    }
   ],
   "source": [
    "# Check the code avove with all names in df\n",
    "for i in list(df.iloc[:, 0]):\n",
    "    print(f\"{i}: {Recommendation(movie_popularity_rank, preference, movie_names, i)}\")\n",
    "    \n",
    "# If 'None' is returned, it means that the person has watched all movies so there is no movie that can be recommended."
   ]
  },
  {
   "cell_type": "code",
   "execution_count": 10,
   "metadata": {},
   "outputs": [
    {
     "data": {
      "text/plain": [
       "''"
      ]
     },
     "execution_count": 10,
     "metadata": {},
     "output_type": "execute_result"
    }
   ],
   "source": [
    "# Check the code avove with a name that is not in df\n",
    "Recommendation(movie_popularity_rank, preference, movie_names, \"Hawoo Im\")"
   ]
  },
  {
   "cell_type": "code",
   "execution_count": null,
   "metadata": {},
   "outputs": [],
   "source": []
  }
 ],
 "metadata": {
  "kernelspec": {
   "display_name": "Python 3 (ipykernel)",
   "language": "python",
   "name": "python3"
  },
  "language_info": {
   "codemirror_mode": {
    "name": "ipython",
    "version": 3
   },
   "file_extension": ".py",
   "mimetype": "text/x-python",
   "name": "python",
   "nbconvert_exporter": "python",
   "pygments_lexer": "ipython3",
   "version": "3.9.7"
  }
 },
 "nbformat": 4,
 "nbformat_minor": 2
}
