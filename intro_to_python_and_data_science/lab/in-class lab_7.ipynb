{
 "cells": [
  {
   "cell_type": "markdown",
   "metadata": {},
   "source": [
    "# List Comprehension Practice"
   ]
  },
  {
   "cell_type": "markdown",
   "metadata": {},
   "source": [
    "Create list of all the even number below 100."
   ]
  },
  {
   "cell_type": "code",
   "execution_count": 1,
   "metadata": {},
   "outputs": [
    {
     "name": "stdout",
     "output_type": "stream",
     "text": [
      "[0, 2, 4, 6, 8, 10, 12, 14, 16, 18, 20, 22, 24, 26, 28, 30, 32, 34, 36, 38, 40, 42, 44, 46, 48, 50, 52, 54, 56, 58, 60, 62, 64, 66, 68, 70, 72, 74, 76, 78, 80, 82, 84, 86, 88, 90, 92, 94, 96, 98]\n"
     ]
    }
   ],
   "source": [
    "#Write you code here\n",
    "\n",
    "even_numbers = [i for i in range(100) if i % 2 == 0]\n",
    "print(even_numbers)"
   ]
  },
  {
   "cell_type": "markdown",
   "metadata": {},
   "source": [
    "Create a poker deck with list of lists. For example, your deck should be [[\"H\", 1], ...[\"H\", 13], ...., [\"C\", 1], ....]"
   ]
  },
  {
   "cell_type": "code",
   "execution_count": 2,
   "metadata": {},
   "outputs": [
    {
     "name": "stdout",
     "output_type": "stream",
     "text": [
      "[['H', 1], ['H', 2], ['H', 3], ['H', 4], ['H', 5], ['H', 6], ['H', 7], ['H', 8], ['H', 9], ['H', 10], ['H', 11], ['H', 12], ['H', 13], ['D', 1], ['D', 2], ['D', 3], ['D', 4], ['D', 5], ['D', 6], ['D', 7], ['D', 8], ['D', 9], ['D', 10], ['D', 11], ['D', 12], ['D', 13], ['C', 1], ['C', 2], ['C', 3], ['C', 4], ['C', 5], ['C', 6], ['C', 7], ['C', 8], ['C', 9], ['C', 10], ['C', 11], ['C', 12], ['C', 13], ['S', 1], ['S', 2], ['S', 3], ['S', 4], ['S', 5], ['S', 6], ['S', 7], ['S', 8], ['S', 9], ['S', 10], ['S', 11], ['S', 12], ['S', 13]]\n"
     ]
    }
   ],
   "source": [
    "#Write you code here\n",
    "\n",
    "poker_cards = [[c, i] for c in [\"H\", \"D\", \"C\", \"S\"] for i in range(1, 14)]\n",
    "print(poker_cards)"
   ]
  },
  {
   "cell_type": "markdown",
   "metadata": {},
   "source": [
    "Generate an $n\\times n$ identity matrix as a list of lists using list comprehension. This should be one line of code"
   ]
  },
  {
   "cell_type": "code",
   "execution_count": 3,
   "metadata": {},
   "outputs": [
    {
     "data": {
      "text/plain": [
       "[[1, 0, 0, 0, 0, 0, 0, 0, 0, 0],\n",
       " [0, 1, 0, 0, 0, 0, 0, 0, 0, 0],\n",
       " [0, 0, 1, 0, 0, 0, 0, 0, 0, 0],\n",
       " [0, 0, 0, 1, 0, 0, 0, 0, 0, 0],\n",
       " [0, 0, 0, 0, 1, 0, 0, 0, 0, 0],\n",
       " [0, 0, 0, 0, 0, 1, 0, 0, 0, 0],\n",
       " [0, 0, 0, 0, 0, 0, 1, 0, 0, 0],\n",
       " [0, 0, 0, 0, 0, 0, 0, 1, 0, 0],\n",
       " [0, 0, 0, 0, 0, 0, 0, 0, 1, 0],\n",
       " [0, 0, 0, 0, 0, 0, 0, 0, 0, 1]]"
      ]
     },
     "execution_count": 3,
     "metadata": {},
     "output_type": "execute_result"
    }
   ],
   "source": [
    "n = 10\n",
    "\n",
    "#Write you code here\n",
    "identity_matrix = [[int(i == j) for j in range(n)] for i in range(n)]\n",
    "identity_matrix"
   ]
  },
  {
   "cell_type": "markdown",
   "metadata": {},
   "source": [
    "Take a string, make a list of strings where each element is the original string without a character. For example, \"Jake\" => [\"ake\", \"Jke\", \"Jae\", \"Jak\"]"
   ]
  },
  {
   "cell_type": "code",
   "execution_count": 4,
   "metadata": {},
   "outputs": [
    {
     "data": {
      "text/plain": [
       "['ake', 'Jke', 'Jae', 'Jak']"
      ]
     },
     "execution_count": 4,
     "metadata": {},
     "output_type": "execute_result"
    }
   ],
   "source": [
    "s = \"Jake\"\n",
    "\n",
    "#Write your code here\n",
    "jake_without_a_character = [s[:i] + s[i+1:] for i in range(len(s))]\n",
    "jake_without_a_character"
   ]
  },
  {
   "cell_type": "markdown",
   "metadata": {},
   "source": [
    "Take a string, make a list of strings where we insert a single \"x\" or \"y\" in every possible location between two letters. For example, \"Jake\" => [\"Jxake\", \"Jyake\", \"Jaxke\", \"Jayke\",...]"
   ]
  },
  {
   "cell_type": "code",
   "execution_count": 5,
   "metadata": {},
   "outputs": [
    {
     "data": {
      "text/plain": [
       "['Jxake', 'Jyake', 'Jaxke', 'Jayke', 'Jakxe', 'Jakye']"
      ]
     },
     "execution_count": 5,
     "metadata": {},
     "output_type": "execute_result"
    }
   ],
   "source": [
    "s = \"Jake\"\n",
    "\n",
    "#Write your code here\n",
    "jake_with_xy = [s[:i] + c + s[i:] for i in range(1, len(s)) for c in 'xy']\n",
    "jake_with_xy "
   ]
  },
  {
   "cell_type": "markdown",
   "metadata": {},
   "source": [
    "Let build a spell checker that will recommend spelling changes for a given input word. We will recommend words that have a small \"edit distance\" (start with edit distance of one) from the input word. The edit distance will be fewest number of edits needed to go from the input word to the correct English word where an edit is either a delete, replace, transpose (flip any two letters), or an insert. The file \"English_Words.txt\" contains a list of 58,000 common English words.\n",
    "\n",
    "First function is **Read_Words()**:\n",
    "\n",
    "- Input: None\n",
    "- Output: List of of all English Words\n",
    "\n",
    "\n",
    "\n",
    "Second function is **Edits(word)**:\n",
    "\n",
    "- Input: incorrectly spelled word\n",
    "- Output: list of all edits\n",
    "\n",
    "Third function is **Get_English_Words(list_edits, english_words)**:\n",
    "\n",
    "- Input: list of potential edits and list of english words.\n",
    "- Output: all words in list_edits that are english words."
   ]
  },
  {
   "cell_type": "code",
   "execution_count": 6,
   "metadata": {},
   "outputs": [],
   "source": [
    "def Read_Words():\n",
    "    \"\"\"Reads list of English words\"\"\"\n",
    "    \n",
    "    return [line.strip('\\n') for line in open(\"data/English_Words.txt\")]"
   ]
  },
  {
   "cell_type": "code",
   "execution_count": 7,
   "metadata": {},
   "outputs": [],
   "source": [
    "def Edits(word):\n",
    "    \"\"\"Gets all edits for misplelled word\"\"\"\n",
    "\n",
    "    list_edits = []\n",
    "    \n",
    "    # delete\n",
    "    list_edits += [word[:i] + word[i+1:] for i in range(len(word))]\n",
    "    \n",
    "    # replace\n",
    "    list_edits += [word[:i] + j + word[i+1:] for i in range(len(word)) for j in 'abcdefghijklmnopqrstuvwxyz']\n",
    "    \n",
    "    # insert\n",
    "    list_edits += [word[:i] + j + word[i:] for i in range(len(word)) for j in 'abcdefghijklmnopqrstuvwxyz']\n",
    "    \n",
    "    # transpose\n",
    "    import itertools as it\n",
    "    list_edits += [''.join(i) for i in list(it.permutations(word, len(word)))]  # possible flips = permutations\n",
    "    \n",
    "    # remove duplicates\n",
    "    list_edits = list(set(list_edits))\n",
    "        \n",
    "    # remove the original word from list_edits if there is one\n",
    "    if word in list_edits:       \n",
    "        list_edits.remove(word)\n",
    "\n",
    "    return list_edits"
   ]
  },
  {
   "cell_type": "code",
   "execution_count": 8,
   "metadata": {},
   "outputs": [],
   "source": [
    "def Get_English_Words(list_edits, english_words):\n",
    "    \n",
    "    \"\"\"Filters list of edits to make sure they are all English words\"\"\"\n",
    "    \n",
    "    return sorted([i for i in list_edits if i in english_words])  # sort list for better delivery"
   ]
  },
  {
   "cell_type": "code",
   "execution_count": 9,
   "metadata": {},
   "outputs": [
    {
     "name": "stdout",
     "output_type": "stream",
     "text": [
      "Suggested spelling corrections for the word 'sice' are: \n",
      " ['dice', 'ice', 'ices', 'lice', 'mice', 'nice', 'rice', 'sic', 'sick', 'side', 'since', 'sine', 'sire', 'site', 'size', 'slice', 'spice', 'vice'] \n"
     ]
    }
   ],
   "source": [
    "#Combine functions here\n",
    "\n",
    "word = 'sice'\n",
    "\n",
    "english_words = Read_Words()\n",
    "list_edits = Edits(word)\n",
    "suggested_correction = Get_English_Words(list_edits, english_words)\n",
    "\n",
    "print(f\"Suggested spelling corrections for the word '{word}' are: \\n {suggested_correction} \")"
   ]
  },
  {
   "cell_type": "markdown",
   "metadata": {},
   "source": [
    "# Package Practice\n",
    "\n",
    "Generate N = 5,10,100,1000,10000,1000000 normal random variables with mean 10 and standard deviation 5.  For each value of N, compute the average of these random variables and write the results to a csv file where there is a column for N and another column for the averages."
   ]
  },
  {
   "cell_type": "code",
   "execution_count": 10,
   "metadata": {},
   "outputs": [],
   "source": [
    "import numpy as np\n",
    "\n",
    "def Get_Avg(mean, stdev, N):\n",
    "    \"\"\"Return the avg of N normal RVs with given mean and stdev\"\"\"\n",
    "   \n",
    "    return np.mean(np.random.normal(mean, stdev, N))"
   ]
  },
  {
   "cell_type": "code",
   "execution_count": 11,
   "metadata": {},
   "outputs": [],
   "source": [
    "def Write_Results(mean, stdev, list_N):\n",
    "    \"\"\"Write the results to a csv\"\"\"\n",
    "\n",
    "    with open(\"N_average.csv\", \"w\") as f:\n",
    "        for N in list_N:\n",
    "            f.write(f\"{N}, {Get_Avg(mean, stdev, N)}\\n\")\n",
    "    \n",
    "    return None"
   ]
  },
  {
   "cell_type": "code",
   "execution_count": 12,
   "metadata": {},
   "outputs": [
    {
     "name": "stdout",
     "output_type": "stream",
     "text": [
      "5, 5.933203268703933\n",
      "10, 6.287544564116958\n",
      "100, 10.489791773697522\n",
      "1000, 10.143602073373282\n",
      "10000, 10.092109723510395\n",
      "1000000, 10.007935760894474\n",
      "\n"
     ]
    }
   ],
   "source": [
    "#Combine functions here\n",
    "mean = 10\n",
    "stdev = 5\n",
    "list_N = [5,10,100,1000,10000,1000000]\n",
    "\n",
    "Write_Results(mean, stdev, list_N)\n",
    "\n",
    "# Check the code above\n",
    "with open(\"N_average.csv\", \"r\") as f:\n",
    "    print(f.read())"
   ]
  },
  {
   "cell_type": "markdown",
   "metadata": {},
   "source": [
    "Which has a higher average max. roll: one 8-sided die + one 6-sided die or three 6-sided die.  Simulate 1000000 rolls for each option and compute the average max roll for these two scenarios over the all the rolls."
   ]
  },
  {
   "cell_type": "code",
   "execution_count": 13,
   "metadata": {},
   "outputs": [],
   "source": [
    "#Write you code here\n",
    "def Roll_Dice(list_die):\n",
    "    \"\"\"list_die is a list whose elements give the number of sides\n",
    "    on each die. so for three 6 sides you have list_die = [6,6,6].\n",
    "    This function executes a single roll of all the dice and return the max.\"\"\"\n",
    "\n",
    "    rolls = [np.random.randint(low=1, high=i+1) for i in list_die]\n",
    "    \n",
    "    return max(rolls)"
   ]
  },
  {
   "cell_type": "code",
   "execution_count": 14,
   "metadata": {},
   "outputs": [],
   "source": [
    "def Simulate(N,list_die):\n",
    "    \"\"\"Rolls dice N times and find the average max roll of list_die.\"\"\"\n",
    "    \n",
    "    max_list = [Roll_Dice(list_die) for i in range(N)]\n",
    "\n",
    "    return np.mean(max_list)"
   ]
  },
  {
   "cell_type": "code",
   "execution_count": 15,
   "metadata": {},
   "outputs": [
    {
     "name": "stdout",
     "output_type": "stream",
     "text": [
      "Average Max Roll of [8, 6] die: 5.233433\n",
      "Average Max Roll of [6, 6, 6] die: 4.957948\n"
     ]
    }
   ],
   "source": [
    "#Combine your functions here\n",
    "N = 1000000\n",
    "\n",
    "list_die = [8, 6]\n",
    "print(f\"Average Max Roll of {list_die} die: {Simulate(N,list_die)}\")\n",
    "\n",
    "list_die = [6, 6, 6]\n",
    "print(f\"Average Max Roll of {list_die} die: {Simulate(N,list_die)}\")"
   ]
  },
  {
   "cell_type": "code",
   "execution_count": null,
   "metadata": {},
   "outputs": [],
   "source": []
  }
 ],
 "metadata": {
  "kernelspec": {
   "display_name": "Python 3 (ipykernel)",
   "language": "python",
   "name": "python3"
  },
  "language_info": {
   "codemirror_mode": {
    "name": "ipython",
    "version": 3
   },
   "file_extension": ".py",
   "mimetype": "text/x-python",
   "name": "python",
   "nbconvert_exporter": "python",
   "pygments_lexer": "ipython3",
   "version": "3.9.7"
  },
  "toc": {
   "nav_menu": {
    "height": "30px",
    "width": "252px"
   },
   "number_sections": true,
   "sideBar": true,
   "skip_h1_title": false,
   "toc_cell": false,
   "toc_position": {},
   "toc_section_display": "block",
   "toc_window_display": false
  }
 },
 "nbformat": 4,
 "nbformat_minor": 2
}
