{
 "cells": [
  {
   "cell_type": "markdown",
   "metadata": {},
   "source": [
    "# Files Practice"
   ]
  },
  {
   "cell_type": "markdown",
   "metadata": {},
   "source": [
    "Q1 - Read in the text file 'Pizza_File.txt'  and find the number of times the letter a (upper or lower case) appears. Also compute the average number of slices consumed."
   ]
  },
  {
   "cell_type": "code",
   "execution_count": 1,
   "metadata": {},
   "outputs": [
    {
     "name": "stdout",
     "output_type": "stream",
     "text": [
      "The letter a (upper or lower case) appears 7 times.\n",
      "The average slices consumed were 6.17.\n"
     ]
    }
   ],
   "source": [
    "#Write you code here\n",
    "\n",
    "f = open(\"data\\\\Pizza_File.txt\", \"r\")\n",
    "lines = f.readlines()\n",
    "\n",
    "# find the number of times the letter a appears\n",
    "a_count = lines[0].lower().count(\"a\")\n",
    "print(f\"The letter a (upper or lower case) appears {a_count} times.\")\n",
    "\n",
    "# compute the average number of slices consumed\n",
    "pizza_consumed = lines[1].split(\",\")\n",
    "pizza_list = []\n",
    "for i in pizza_consumed:\n",
    "    pizza_list.append(int(i))\n",
    "print(\"The average slices consumed were %.2f.\" %(sum(pizza_list) / len(pizza_list)))"
   ]
  },
  {
   "cell_type": "markdown",
   "metadata": {},
   "source": [
    "Q2 -Read in the text file 'scores.txt' and create a dictionary where the keys are the names and the values are lists of scores (as integers)."
   ]
  },
  {
   "cell_type": "code",
   "execution_count": 2,
   "metadata": {},
   "outputs": [
    {
     "name": "stdout",
     "output_type": "stream",
     "text": [
      "{'Jake': [100, 100, 100, 101, 99], 'Dennis': [101, 99, 101, 99], 'Amr': [0, 1, 2, 3, 4, 5]}\n"
     ]
    }
   ],
   "source": [
    "#Write your code here 1 (using list comprehension)\n",
    "\n",
    "f = open(\"data\\\\scores.txt\", \"r\")\n",
    "scores = f.read()\n",
    "scores = scores.split(\"\\n\")\n",
    "\n",
    "scores_dict = {}\n",
    "for i in scores:\n",
    "    i = i.split(\", \")\n",
    "    scores_dict[i[0]] = [int(j) for j in i[1:]]\n",
    "    \n",
    "print(scores_dict)"
   ]
  },
  {
   "cell_type": "code",
   "execution_count": 3,
   "metadata": {},
   "outputs": [
    {
     "name": "stdout",
     "output_type": "stream",
     "text": [
      "{'Jake': [100, 100, 100, 101, 99], 'Dennis': [101, 99, 101, 99], 'Amr': [0, 1, 2, 3, 4, 5]}\n"
     ]
    }
   ],
   "source": [
    "#Write your code here 2 (using map)\n",
    "\n",
    "f = open(\"data\\\\scores.txt\", \"r\")\n",
    "scores = f.read()\n",
    "scores = scores.split(\"\\n\")\n",
    "\n",
    "scores_dict = {}\n",
    "for i in scores:\n",
    "    i = i.split(\", \")\n",
    "    scores_dict[i[0]] = list(map(int, i[1:]))\n",
    "    \n",
    "print(scores_dict)"
   ]
  },
  {
   "cell_type": "markdown",
   "metadata": {},
   "source": [
    "Q3 - Read in the file 'user_likes.txt' and create a dictionary where the keys are the movies and the values are the fraction of times this movie was liked."
   ]
  },
  {
   "cell_type": "code",
   "execution_count": 4,
   "metadata": {},
   "outputs": [
    {
     "name": "stdout",
     "output_type": "stream",
     "text": [
      "{'Suicide Squad': 0.4, 'The Great Wall': 0.5, 'La La Land': 1.0, 'Rogue One': 1.0}\n"
     ]
    }
   ],
   "source": [
    "#Write your code here 1 (using if)\n",
    "\n",
    "f = open(\"data\\\\user_likes.txt\", \"r\")\n",
    "userlikes = f.read()\n",
    "userlikes = userlikes.split('\\n')\n",
    "userlikes.remove('')\n",
    "userlikes.remove('')\n",
    "userlikes.remove('')\n",
    "\n",
    "userlikes_dict = {}\n",
    "for i in userlikes:\n",
    "    i = i.split(\",\")\n",
    "    if i[1] in userlikes_dict:\n",
    "        userlikes_dict[i[1]].append(int(i[2]))\n",
    "    else:\n",
    "        userlikes_dict[i[1]] = [int(i[2])]\n",
    "\n",
    "for key in userlikes_dict.keys():\n",
    "    userlikes_dict[key] = sum(userlikes_dict[key]) / len(userlikes_dict[key])\n",
    "    \n",
    "print(userlikes_dict)"
   ]
  },
  {
   "cell_type": "code",
   "execution_count": 5,
   "metadata": {},
   "outputs": [
    {
     "name": "stdout",
     "output_type": "stream",
     "text": [
      "{'Suicide Squad': 0.4, 'The Great Wall': 0.5, 'La La Land': 1.0, 'Rogue One': 1.0}\n"
     ]
    }
   ],
   "source": [
    "#Write your code here 2 (using dict.setdefault)\n",
    "\n",
    "f = open(\"data\\\\user_likes.txt\", \"r\")\n",
    "userlikes = f.read()\n",
    "userlikes = userlikes.split('\\n')\n",
    "userlikes.remove('')\n",
    "userlikes.remove('')\n",
    "userlikes.remove('')\n",
    "\n",
    "userlikes_dict = {}\n",
    "for i in userlikes:\n",
    "    i = i.split(\",\")\n",
    "    userlikes_dict.setdefault(i[1], [])\n",
    "    userlikes_dict[i[1]].append(int(i[2]))\n",
    "\n",
    "for key in userlikes_dict.keys():\n",
    "    userlikes_dict[key] = sum(userlikes_dict[key]) / len(userlikes_dict[key])\n",
    "    \n",
    "print(userlikes_dict)"
   ]
  },
  {
   "cell_type": "markdown",
   "metadata": {},
   "source": [
    "Q4 - The folder Stock_Data contains stock price information (open, hi, low, close, adj close, volume) on all of the stocks listed in stock_tickers.csv.  For each of the stocks listed in this file, we would like to compute the average open price for the first quarter and write these results to new csv called Q1_Results.csv.\n",
    "\n",
    "\n",
    "a)First read the 20 stock tickers into a list from the file stock_tickers.csv"
   ]
  },
  {
   "cell_type": "code",
   "execution_count": 6,
   "metadata": {},
   "outputs": [
    {
     "name": "stdout",
     "output_type": "stream",
     "text": [
      "['ABB', 'ACN', 'ATVI', 'ADBE', 'AAPL', 'AMAT', 'ASML', 'ADP', 'BIDU', 'CA', 'CAJ', 'CSCO', 'CTSH', 'GLW', 'DVMT', 'EBAY', 'EMR', 'ERIC', 'GOOG', 'HPQ']\n"
     ]
    }
   ],
   "source": [
    "#Write your code here\n",
    "\n",
    "f = open('data\\\\stock_data\\\\Stock_tickers.csv', 'r')\n",
    "stock_tickers = f.read()\n",
    "stock_tickers = stock_tickers.split('\\n')\n",
    "print(stock_tickers)"
   ]
  },
  {
   "cell_type": "markdown",
   "metadata": {},
   "source": [
    "   b) Next, create a dictionary where there is a key for each stock and the values are a list of the opening prices for the first quarter"
   ]
  },
  {
   "cell_type": "code",
   "execution_count": 7,
   "metadata": {},
   "outputs": [
    {
     "name": "stdout",
     "output_type": "stream",
     "text": [
      "{'ABB': '22.79', 'ACN': '119.30', 'ATVI': '43.78', 'ADBE': '117.04', 'AAPL': '131.32', 'AMAT': '35.85', 'ASML': '122.71', 'ADP': '101.86', 'BIDU': '176.13', 'CA': '32.16', 'CAJ': '29.59', 'CSCO': '32.39', 'CTSH': '57.48', 'GLW': '26.55', 'DVMT': '62.00', 'EBAY': '32.49', 'EMR': '59.67', 'ERIC': '6.16', 'GOOG': '819.79', 'HPQ': '16.14'}\n"
     ]
    }
   ],
   "source": [
    "#Write your code here\n",
    "\n",
    "stock_tickers_dict = {}\n",
    "\n",
    "opening_prices = []\n",
    "\n",
    "for i in stock_tickers:\n",
    "    stock_tickers_dict.setdefault(i, [])\n",
    "    f = open(f'data\\\\stock_data\\\\{i}.csv', 'r')\n",
    "\n",
    "    read1 = f.read()\n",
    "    read1 = read1.split('\\n')\n",
    "    \n",
    "    read2 = []\n",
    "    for j in read1:\n",
    "        read2.append(j.split(','))\n",
    "        \n",
    "    read3 = []\n",
    "    for k in range(62):\n",
    "        read3.append(float(read2[k+1][2]))\n",
    "        \n",
    "    stock_tickers_dict[i] = '%.2f' %(sum(read3) / len(read3))\n",
    "    \n",
    "print(stock_tickers_dict)"
   ]
  },
  {
   "cell_type": "markdown",
   "metadata": {},
   "source": [
    "c)The final step is writing the result to a new csv called Q1_results.csv"
   ]
  },
  {
   "cell_type": "code",
   "execution_count": 8,
   "metadata": {},
   "outputs": [],
   "source": [
    "#Write your code here\n",
    "f = open('data\\\\stock_data\\\\Q1_results.csv', 'w')\n",
    "\n",
    "for key, value in stock_tickers_dict.items():\n",
    "    f.write(f'{key}, {value}\\n')\n",
    "\n",
    "f.close()"
   ]
  },
  {
   "cell_type": "code",
   "execution_count": 9,
   "metadata": {},
   "outputs": [
    {
     "name": "stdout",
     "output_type": "stream",
     "text": [
      "ABB, 22.79\n",
      "ACN, 119.30\n",
      "ATVI, 43.78\n",
      "ADBE, 117.04\n",
      "AAPL, 131.32\n",
      "AMAT, 35.85\n",
      "ASML, 122.71\n",
      "ADP, 101.86\n",
      "BIDU, 176.13\n",
      "CA, 32.16\n",
      "CAJ, 29.59\n",
      "CSCO, 32.39\n",
      "CTSH, 57.48\n",
      "GLW, 26.55\n",
      "DVMT, 62.00\n",
      "EBAY, 32.49\n",
      "EMR, 59.67\n",
      "ERIC, 6.16\n",
      "GOOG, 819.79\n",
      "HPQ, 16.14\n",
      "\n"
     ]
    }
   ],
   "source": [
    "# result\n",
    "f = open('data\\\\stock_data\\\\Q1_results.csv', 'r')\n",
    "print(f.read())\n",
    "f.close()"
   ]
  },
  {
   "cell_type": "code",
   "execution_count": null,
   "metadata": {},
   "outputs": [],
   "source": []
  }
 ],
 "metadata": {
  "kernelspec": {
   "display_name": "Python 3 (ipykernel)",
   "language": "python",
   "name": "python3"
  },
  "language_info": {
   "codemirror_mode": {
    "name": "ipython",
    "version": 3
   },
   "file_extension": ".py",
   "mimetype": "text/x-python",
   "name": "python",
   "nbconvert_exporter": "python",
   "pygments_lexer": "ipython3",
   "version": "3.9.7"
  },
  "toc": {
   "colors": {
    "hover_highlight": "#DAA520",
    "navigate_num": "#000000",
    "navigate_text": "#333333",
    "running_highlight": "#FF0000",
    "selected_highlight": "#FFD700",
    "sidebar_border": "#EEEEEE",
    "wrapper_background": "#FFFFFF"
   },
   "moveMenuLeft": true,
   "nav_menu": {
    "height": "30px",
    "width": "252px"
   },
   "navigate_menu": true,
   "number_sections": true,
   "sideBar": true,
   "threshold": 4,
   "toc_cell": false,
   "toc_section_display": "block",
   "toc_window_display": false,
   "widenNotebook": false
  }
 },
 "nbformat": 4,
 "nbformat_minor": 2
}
