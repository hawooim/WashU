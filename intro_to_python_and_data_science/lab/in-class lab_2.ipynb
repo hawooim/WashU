{
 "cells": [
  {
   "cell_type": "markdown",
   "metadata": {},
   "source": [
    "# Conditionals\n",
    "\n",
    "Check if the x is perfect square.  If it is, print \"x is a perfect square\".  If not print \"x is not a perfect square\"."
   ]
  },
  {
   "cell_type": "code",
   "execution_count": 1,
   "metadata": {},
   "outputs": [
    {
     "name": "stdout",
     "output_type": "stream",
     "text": [
      "25 is a perfect square.\n"
     ]
    }
   ],
   "source": [
    "#Write your code here\n",
    "x = 25\n",
    "\n",
    "if (x ** 0.5) == int(x ** 0.5):\n",
    "    print(f\"{x} is a perfect square.\")\n",
    "else:\n",
    "    print(f\"{x} is not a perfect square.\")"
   ]
  },
  {
   "cell_type": "markdown",
   "metadata": {},
   "source": [
    "Create a list L of arbitrary length. Get the median.\n"
   ]
  },
  {
   "cell_type": "code",
   "execution_count": 2,
   "metadata": {},
   "outputs": [
    {
     "name": "stdout",
     "output_type": "stream",
     "text": [
      "12\n"
     ]
    }
   ],
   "source": [
    "#Write your code here\n",
    "L = [213, 123, 21, 2, 12, 11, 7]\n",
    "\n",
    "sorted_L = sorted(L)                   # [2, 7, 11, 12, 21, 123, 213]\n",
    "len_sorted_L = len(sorted_L)           # 7\n",
    "\n",
    "if len_sorted_L % 2 == 1:              # if len is odd (which is the case here)\n",
    "    index = int(len_sorted_L / 2)      # 3 \n",
    "    print(sorted_L[index])\n",
    "\n",
    "else:                                  # if len is even (which is not the case here)\n",
    "    index1 = int(len_sorted_L / 2 - 1) \n",
    "    index2 = int(len_sorted_L / 2)\n",
    "    print((sorted_L[index1] + sorted_L[index2]) / 2)    "
   ]
  },
  {
   "cell_type": "markdown",
   "metadata": {},
   "source": [
    "If there are fewer than 10 students in the class, then the top three students get an  A and the rest get a B.  Otherwise, the grade breakdown is as follows:\n",
    "\n",
    "- A: 90-100\n",
    "- B: 80-89\n",
    "- C: 70 - 79\n",
    "- D: 65 - 69\n",
    "- Failing: Below 65\n",
    "\n",
    "Given the list of grades in grades_list, print the grade received by the last student in this list. So if we have\n",
    "\n",
    "    grade_list = [50, 90, 91, 88, 75]\n",
    "\n",
    "we want to print the grade received by the student who received a 75. In this case it would be a B.\n",
    "\n"
   ]
  },
  {
   "cell_type": "code",
   "execution_count": 3,
   "metadata": {},
   "outputs": [
    {
     "name": "stdout",
     "output_type": "stream",
     "text": [
      "The last student's grade is 'B'.\n"
     ]
    }
   ],
   "source": [
    "#Write your code here\n",
    "grade_list = [50, 90, 91, 88, 75]\n",
    "\n",
    "sorted_grade_list = sorted(grade_list, reverse = True)   # [91, 90, 88, 75, 50]\n",
    "last_student = grade_list[-1]                            # 75\n",
    "\n",
    "if len(grade_list) < 10:                                 # If the number of students < 10 (which is the case here)\n",
    "    if last_student in sorted_grade_list[:3]:\n",
    "        print(f\"The last student's grade is 'A'.\")\n",
    "    else:\n",
    "        print(f\"The last student's grade is 'B'.\")\n",
    "else:                                                    # If the number of students >= 10 (which is not the case here)\n",
    "    if last_student >= 90 and last_student <= 100:\n",
    "        print(f\"The last student's grade is 'A'.\")\n",
    "    elif last_student >= 80 and last_student < 90:\n",
    "        print(f\"The last student's grade is 'B'.\")\n",
    "    elif last_student >= 70 and last_student < 80:\n",
    "        print(f\"The last student's grade is 'C'.\")\n",
    "    elif last_student >= 65 and last_student < 70:\n",
    "        print(f\"The last student's grade is 'D'.\")\n",
    "    elif last_student < 65:\n",
    "        print(f\"The last student's grade is 'Failing'.\")"
   ]
  },
  {
   "cell_type": "markdown",
   "metadata": {},
   "source": [
    "# For Loops\n",
    "\n",
    "Count the number of n's in your name (lower and uppercase count)"
   ]
  },
  {
   "cell_type": "code",
   "execution_count": 4,
   "metadata": {},
   "outputs": [
    {
     "name": "stdout",
     "output_type": "stream",
     "text": [
      "1\n"
     ]
    }
   ],
   "source": [
    "#Write your code here\n",
    "name = \"Salih Tutun\"\n",
    "\n",
    "n_count = 0\n",
    "for i in name:\n",
    "    if \"n\" == i or \"N\" == i:    \n",
    "        n_count += 1\n",
    "print(n_count)"
   ]
  },
  {
   "cell_type": "markdown",
   "metadata": {},
   "source": [
    "Get all of the factors of a number and store them in a list"
   ]
  },
  {
   "cell_type": "code",
   "execution_count": 5,
   "metadata": {},
   "outputs": [
    {
     "name": "stdout",
     "output_type": "stream",
     "text": [
      "[1, 2, 3, 6]\n"
     ]
    }
   ],
   "source": [
    "#Write your code here\n",
    "n = 6 # [1, 2, 3, 6]\n",
    "\n",
    "factors = []\n",
    "for i in range(1, n + 1):\n",
    "    if n % i == 0:\n",
    "        factors.append(i)\n",
    "\n",
    "print(factors)"
   ]
  },
  {
   "cell_type": "markdown",
   "metadata": {},
   "source": [
    "Generate the first N numbers of the Fibonacci sequence where \n",
    "\n",
    "$a_0 = 1$\n",
    "\n",
    "$a_1=1$\n",
    "\n",
    "$a_n = a_{n-1} + a_{n-2}$"
   ]
  },
  {
   "cell_type": "code",
   "execution_count": 6,
   "metadata": {},
   "outputs": [
    {
     "name": "stdout",
     "output_type": "stream",
     "text": [
      "[1, 1, 2, 3, 5, 8, 13, 21, 34, 55]\n"
     ]
    }
   ],
   "source": [
    "#Write your code here\n",
    "n = 10\n",
    "\n",
    "a0 = 1\n",
    "a1 = 1\n",
    "fibo = [a0, a1]\n",
    "\n",
    "for i in range(2, n):\n",
    "    fibo.append(fibo[i-2] + fibo[i-1])\n",
    "print(fibo)"
   ]
  },
  {
   "cell_type": "markdown",
   "metadata": {},
   "source": [
    "Compute the dot product of lists l1 and l2. **This is an example where iterating over the index is better than over the elements themselves**\n"
   ]
  },
  {
   "cell_type": "code",
   "execution_count": 7,
   "metadata": {},
   "outputs": [
    {
     "name": "stdout",
     "output_type": "stream",
     "text": [
      "947\n"
     ]
    }
   ],
   "source": [
    "#Write your code here\n",
    "l1 = [2, 3, 4, 5, 6, 1, 90]\n",
    "l2 = [3, 1, 5, 1, 2, 1, 10]\n",
    "\n",
    "dot_product_elements = []\n",
    "\n",
    "for i in range(len(l1)):\n",
    "    dot_product_elements.append(l1[i] * l2[i])\n",
    "print(sum(dot_product_elements))  # sum of all the elements in [6, 3, 20, 5, 12, 1, 900]"
   ]
  },
  {
   "cell_type": "markdown",
   "metadata": {},
   "source": [
    "Given two strings, test how many times the first string contains the second.  For example if str1 = \"**co**ding is **co**ol\" and str2 = \"co\" then output should be 2."
   ]
  },
  {
   "cell_type": "code",
   "execution_count": 8,
   "metadata": {},
   "outputs": [
    {
     "name": "stdout",
     "output_type": "stream",
     "text": [
      "2\n"
     ]
    }
   ],
   "source": [
    "#Write you code here\n",
    "str1 = \"coding is cool\"\n",
    "str2 = \"co\"\n",
    "\n",
    "n_contain = 0\n",
    "\n",
    "while str1.find(str2) != -1:   # if it is -1, it means str1 does not contain str2.\n",
    "    if str2 in str1:\n",
    "        n_contain += 1\n",
    "        str1 = str1[:str1.find(str2)] + str1[str1.find(str2)+len(str2):]\n",
    "        # (new) str1 = str1 before the index + str1 after the index\n",
    "        # So we leave out the already counted part, and generate new str1 with remainders.\n",
    "print(n_contain)"
   ]
  },
  {
   "cell_type": "markdown",
   "metadata": {},
   "source": [
    "Code up the locker brain teaser below. Print out a list of the open locker numbers. Let N be the number of lockers and students"
   ]
  },
  {
   "cell_type": "code",
   "execution_count": 9,
   "metadata": {},
   "outputs": [
    {
     "name": "stdout",
     "output_type": "stream",
     "text": [
      "{1: 'X', 2: 'X', 3: 'X', 4: 'X', 5: 'X', 6: 'X', 7: 'X', 8: 'X', 9: 'X', 10: 'X', 11: 'X', 12: 'X', 13: 'X', 14: 'X', 15: 'X', 16: 'X', 17: 'X', 18: 'X', 19: 'X', 20: 'X', 21: 'X', 22: 'X', 23: 'X', 24: 'X', 25: 'X', 26: 'X', 27: 'X', 28: 'X', 29: 'X', 30: 'X', 31: 'X', 32: 'X', 33: 'X', 34: 'X', 35: 'X', 36: 'X', 37: 'X', 38: 'X', 39: 'X', 40: 'X', 41: 'X', 42: 'X', 43: 'X', 44: 'X', 45: 'X', 46: 'X', 47: 'X', 48: 'X', 49: 'X', 50: 'X', 51: 'X', 52: 'X', 53: 'X', 54: 'X', 55: 'X', 56: 'X', 57: 'X', 58: 'X', 59: 'X', 60: 'X', 61: 'X', 62: 'X', 63: 'X', 64: 'X', 65: 'X', 66: 'X', 67: 'X', 68: 'X', 69: 'X', 70: 'X', 71: 'X', 72: 'X', 73: 'X', 74: 'X', 75: 'X', 76: 'X', 77: 'X', 78: 'X', 79: 'X', 80: 'X', 81: 'X', 82: 'X', 83: 'X', 84: 'X', 85: 'X', 86: 'X', 87: 'X', 88: 'X', 89: 'X', 90: 'X', 91: 'X', 92: 'X', 93: 'X', 94: 'X', 95: 'X', 96: 'X', 97: 'X', 98: 'X', 99: 'X', 100: 'X'}\n"
     ]
    }
   ],
   "source": [
    "#Write your code here  \n",
    "# N=100\n",
    "\n",
    "# Generate a dictionary named 'lockers' with keys of 1 ~ 100, values of 'X'.\n",
    "# We begin with all the lockers closed('X').\n",
    "\n",
    "lockers = dict.fromkeys(range(1, 101), \"X\")\n",
    "print(lockers)   # to check we correctly generated 'lockers' dictionary."
   ]
  },
  {
   "cell_type": "code",
   "execution_count": 10,
   "metadata": {
    "scrolled": true
   },
   "outputs": [
    {
     "name": "stdout",
     "output_type": "stream",
     "text": [
      "{1: 'O', 2: 'X', 3: 'X', 4: 'O', 5: 'X', 6: 'X', 7: 'X', 8: 'X', 9: 'O', 10: 'X', 11: 'X', 12: 'X', 13: 'X', 14: 'X', 15: 'X', 16: 'O', 17: 'X', 18: 'X', 19: 'X', 20: 'X', 21: 'X', 22: 'X', 23: 'X', 24: 'X', 25: 'O', 26: 'X', 27: 'X', 28: 'X', 29: 'X', 30: 'X', 31: 'X', 32: 'X', 33: 'X', 34: 'X', 35: 'X', 36: 'O', 37: 'X', 38: 'X', 39: 'X', 40: 'X', 41: 'X', 42: 'X', 43: 'X', 44: 'X', 45: 'X', 46: 'X', 47: 'X', 48: 'X', 49: 'O', 50: 'X', 51: 'X', 52: 'X', 53: 'X', 54: 'X', 55: 'X', 56: 'X', 57: 'X', 58: 'X', 59: 'X', 60: 'X', 61: 'X', 62: 'X', 63: 'X', 64: 'O', 65: 'X', 66: 'X', 67: 'X', 68: 'X', 69: 'X', 70: 'X', 71: 'X', 72: 'X', 73: 'X', 74: 'X', 75: 'X', 76: 'X', 77: 'X', 78: 'X', 79: 'X', 80: 'X', 81: 'O', 82: 'X', 83: 'X', 84: 'X', 85: 'X', 86: 'X', 87: 'X', 88: 'X', 89: 'X', 90: 'X', 91: 'X', 92: 'X', 93: 'X', 94: 'X', 95: 'X', 96: 'X', 97: 'X', 98: 'X', 99: 'X', 100: 'O'}\n"
     ]
    }
   ],
   "source": [
    "# Iterate a process where a student(from 1 to 100) opens/closes lockers from 1 to 100.\n",
    "\n",
    "for student in range(1, 101):                  # Iterate student number from 1 to 100\n",
    "    for key in lockers.keys():                 # Iterate locker number from 1 to 100\n",
    "        if key % student == 0:                 # if a student number is a factor of a locker number, run the following.\n",
    "            if lockers.get(key) == 'X':        # if the locker is currently closed('X'), open the locker('O').\n",
    "                lockers.update({key: 'O'})\n",
    "            elif lockers.get(key) == 'O':      # if the locker is currently open('O'), close the locker('X').\n",
    "                lockers.update({key: 'X'})\n",
    "        else:                                  # if a student number is not a factor of a locker, continue the loop.\n",
    "            continue\n",
    "print(lockers)"
   ]
  },
  {
   "cell_type": "code",
   "execution_count": 11,
   "metadata": {},
   "outputs": [
    {
     "name": "stdout",
     "output_type": "stream",
     "text": [
      "1 4 9 16 25 36 49 64 81 100 "
     ]
    }
   ],
   "source": [
    "# See which lockers are open in the end of the process.\n",
    "\n",
    "for key, value in lockers.items():\n",
    "    if value == 'O':\n",
    "        print(key, end=' ')"
   ]
  }
 ],
 "metadata": {
  "kernelspec": {
   "display_name": "Python 3 (ipykernel)",
   "language": "python",
   "name": "python3"
  },
  "language_info": {
   "codemirror_mode": {
    "name": "ipython",
    "version": 3
   },
   "file_extension": ".py",
   "mimetype": "text/x-python",
   "name": "python",
   "nbconvert_exporter": "python",
   "pygments_lexer": "ipython3",
   "version": "3.9.7"
  },
  "toc": {
   "nav_menu": {
    "height": "48px",
    "width": "252px"
   },
   "number_sections": true,
   "sideBar": true,
   "skip_h1_title": false,
   "toc_cell": false,
   "toc_position": {},
   "toc_section_display": "block",
   "toc_window_display": false
  }
 },
 "nbformat": 4,
 "nbformat_minor": 2
}
