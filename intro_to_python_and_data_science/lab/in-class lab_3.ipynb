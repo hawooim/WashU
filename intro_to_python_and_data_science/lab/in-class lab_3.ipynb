{
 "cells": [
  {
   "cell_type": "markdown",
   "metadata": {},
   "source": [
    "# Practice with New Objects\n",
    "\n"
   ]
  },
  {
   "cell_type": "markdown",
   "metadata": {},
   "source": [
    "## Practice with Dictionaries"
   ]
  },
  {
   "cell_type": "markdown",
   "metadata": {},
   "source": [
    "From the dictionary, produce a list of strings, where each element in the list is a last name.  Your code should work for an arbitrary dictionary formatted as given below. Please print Last names in the dictionary."
   ]
  },
  {
   "cell_type": "code",
   "execution_count": 1,
   "metadata": {},
   "outputs": [
    {
     "name": "stdout",
     "output_type": "stream",
     "text": [
      "['Tutun', 'Jake']\n"
     ]
    }
   ],
   "source": [
    "d = {1: \"Salih Tutun\", 2: \"Dennis Jake\"}\n",
    "\n",
    "#Write your code here\n",
    "\n",
    "last_names = []\n",
    "\n",
    "for value in d.values():                       # iterate each value\n",
    "    splitted_name = value.split(\" \")           # store first name and last name in splitted_name as list\n",
    "    last_names.append(splitted_name[-1])       # get the last name in the splitted_name list\n",
    "\n",
    "print(last_names)"
   ]
  },
  {
   "cell_type": "markdown",
   "metadata": {},
   "source": [
    "Consider the following dictionary D of scores.  From this dictionary, produce another dictionary where the keys are the names and the values are the average scores."
   ]
  },
  {
   "cell_type": "code",
   "execution_count": 2,
   "metadata": {},
   "outputs": [
    {
     "name": "stdout",
     "output_type": "stream",
     "text": [
      "{'Jake': 88.5, 'Charlie': 99.7, 'Ellen': 90.0}\n"
     ]
    }
   ],
   "source": [
    "# creating a new dictionary \n",
    "D = {\"Jake\" : [99,87,91,77], \"Charlie\" : [100,100,99], \"Ellen\" : [95,70,85,100,100]}\n",
    "\n",
    "#Write your code here\n",
    "D_new = {}\n",
    "\n",
    "for key, value in D.items():                           # iterate each key, value\n",
    "     D_new[key] = round(sum(value) / len(value), 1)    # get an average score for each value\n",
    "\n",
    "print(D_new)"
   ]
  },
  {
   "cell_type": "code",
   "execution_count": 3,
   "metadata": {},
   "outputs": [
    {
     "name": "stdout",
     "output_type": "stream",
     "text": [
      "[('Jake', 1), ('Charlie', 2), ('Ellen', 3)]\n",
      "[100, 200, 300]\n"
     ]
    }
   ],
   "source": [
    "#Example of Tuples for using in Dictionaries\n",
    "my_dict = {(\"Jake\",1) : 100, (\"Charlie\",2) : 200, (\"Ellen\",3) : 300}  \n",
    "\n",
    "keys = []\n",
    "values = []\n",
    "\n",
    "# list out keys and values separately \n",
    "for key, value in my_dict.items():\n",
    "    keys.append(key)                          # store keys in list keys\n",
    "    values.append(value)                      # store values in list values\n",
    "    \n",
    "print(keys)\n",
    "print(values)"
   ]
  },
  {
   "cell_type": "markdown",
   "metadata": {},
   "source": [
    "Write the code to check whether the inputted sentence is a pangram, meaning that it contains all 26 letters.  "
   ]
  },
  {
   "cell_type": "code",
   "execution_count": 4,
   "metadata": {},
   "outputs": [
    {
     "name": "stdout",
     "output_type": "stream",
     "text": [
      "True\n",
      "The given sentence is a pangram.\n"
     ]
    }
   ],
   "source": [
    "sentence = \"the quick brown fox jumps over the lazy dog\"\n",
    "#Write your code here\n",
    "\n",
    "a_list = []\n",
    "alphabet_list = list('abcdefghijklmnopqrstuvwxyz')   # define alphabet_list \n",
    "\n",
    "for letter in sentence:                              # iterate each letter in sentence\n",
    "    if letter in alphabet_list:                      # if a letter is in alphabet_list,\n",
    "        a_list.append(letter)                        # add that letter in a_list\n",
    "a_list = sorted(list(set(a_list)))                   # remove duplicate letters and sort in alphabetical order\n",
    "\n",
    "print(a_list == alphabet_list)                       # check whether a_list is equal to alphabet_list\n",
    "if a_list == alphabet_list:                          # just another way to print\n",
    "    print (\"The given sentence is a pangram.\")"
   ]
  },
  {
   "cell_type": "markdown",
   "metadata": {},
   "source": [
    "## Practice with String Methods\n",
    "\n",
    "Use the **count** method to count the number of times that str1 appears in str2."
   ]
  },
  {
   "cell_type": "code",
   "execution_count": 5,
   "metadata": {},
   "outputs": [
    {
     "name": "stdout",
     "output_type": "stream",
     "text": [
      "2\n"
     ]
    }
   ],
   "source": [
    "str1 = \"co\"\n",
    "str2 = \"coding in school is cool\"\n",
    "\n",
    "#Write your code here\n",
    "str1_counts = 0\n",
    "\n",
    "for i in range(len(str2)):\n",
    "    if str1 in str2[i:i+len(str1)]:\n",
    "        str1_counts += 1\n",
    "\n",
    "print(str1_counts)"
   ]
  },
  {
   "cell_type": "code",
   "execution_count": 6,
   "metadata": {},
   "outputs": [
    {
     "data": {
      "text/plain": [
       "2"
      ]
     },
     "execution_count": 6,
     "metadata": {},
     "output_type": "execute_result"
    }
   ],
   "source": [
    "# The easiest way!!\n",
    "str2.count(str1)"
   ]
  },
  {
   "cell_type": "markdown",
   "metadata": {},
   "source": [
    "Count the number of words that start with a vowel (a,e,i,o,u) in the following sentences.  The code should work for any sentence. The **split**, **replace** and **lower** methods will be useful here."
   ]
  },
  {
   "cell_type": "code",
   "execution_count": 7,
   "metadata": {},
   "outputs": [
    {
     "name": "stdout",
     "output_type": "stream",
     "text": [
      "7\n"
     ]
    }
   ],
   "source": [
    "sentence = \"\"\"Jake likes to eat apples. So, he went to the store to acquire some. \n",
    "He used his coupons and then he declared: I love apples.\"\"\"\n",
    "\n",
    "#Write your code here\n",
    "sentence_1 = sentence.lower()                                                                  # convert to lower case\n",
    "sentence_2 = sentence_1.replace(\".\", \"\").replace(\",\", \"\").replace(\"\\n\", \"\").replace(\":\", \"\")   # remove symbols\n",
    "sentence_3 = sentence_2.split(\" \")                                                             # split and store as list\n",
    "\n",
    "vowels = list('aeiou')                                       # define vowels list\n",
    "vowel_start_counts = 0\n",
    "\n",
    "for word in sentence_3:                                      # iterate each word\n",
    "    if word[0] in vowels:                                    # if the first letter of the word is in vowels list\n",
    "        vowel_start_counts += 1\n",
    "\n",
    "print(vowel_start_counts)"
   ]
  },
  {
   "cell_type": "markdown",
   "metadata": {},
   "source": [
    "\n",
    "## Practice with List Methods\n",
    " \n",
    "Store all of the words with more than 5 letters in a list. Use the **append** method for lists and the **strip** method for strings to get rid of punctuation."
   ]
  },
  {
   "cell_type": "code",
   "execution_count": 8,
   "metadata": {},
   "outputs": [
    {
     "name": "stdout",
     "output_type": "stream",
     "text": [
      "['apples', 'acquire', 'coupons', 'declared', 'apples']\n"
     ]
    }
   ],
   "source": [
    "sentence = \"\"\"Jake likes to eat apples. So, he went to the store to acquire some. \n",
    "He used his coupons and then he declared: I love apples.\"\"\"\n",
    "\n",
    "#Write you code here\n",
    "sentence_4 = sentence.split(\" \")                   # split and store as list\n",
    "\n",
    "more_than_5_letter_word = []                       # generate an empty list\n",
    "\n",
    "for word in sentence_4:                            # iterate each word\n",
    "    word = word.strip(\",.:\\n\")                     # remove symbols\n",
    "    if len(word) > 5:                              # if the word is more than 5 letters\n",
    "        more_than_5_letter_word.append(word)       # add that word in the more_than_5_letter_word list\n",
    "\n",
    "print(more_than_5_letter_word)"
   ]
  },
  {
   "cell_type": "markdown",
   "metadata": {},
   "source": [
    "From the list L, created a list of lists called Q, which slices around the number 4. For example, if  L = [1,2,3,4,5,6], then Q = [[1,2,3], [5,6]].  The code should work for general L with a single 4. Use the **index** and **append** methods. "
   ]
  },
  {
   "cell_type": "code",
   "execution_count": 9,
   "metadata": {},
   "outputs": [
    {
     "name": "stdout",
     "output_type": "stream",
     "text": [
      "L: [1, 2, 3, 4, 6, 5, 4, 10, 3]\n",
      "Q: [[1, 2, 3], [6, 5], [10, 3]]\n"
     ]
    }
   ],
   "source": [
    "L=[1,2,3,4,6,5,4,10,3]\n",
    "\n",
    "#Write you code here\n",
    "print(f\"L: {L}\")\n",
    "\n",
    "Q = []\n",
    "split_number = 4\n",
    "\n",
    "while L.count(split_number) > 0:\n",
    "    Q.append(L[0:L.index(split_number)])      # from 0 to where the split_number is\n",
    "    L = L[L.index(split_number)+1:]           # new L = from where the split_number + 1 is to the end \n",
    "    if L.count(split_number) == 0:            # if we can't find the split_number any longer, the rest of list L is added to Q\n",
    "        Q.append(L)\n",
    "\n",
    "while [] in Q:\n",
    "    del Q[Q.index([])]                        # this is to remove an empty list added to Q\n",
    "\n",
    "print(f\"Q: {Q}\")"
   ]
  },
  {
   "cell_type": "code",
   "execution_count": 10,
   "metadata": {},
   "outputs": [
    {
     "name": "stdout",
     "output_type": "stream",
     "text": [
      "L: [2, 3, 3, 3, 8, 1, 6, 5, 2, 3, 6, 4, 7, 3, 4, 9, 2, 2, 2, 7, 2, 5, 9, 9, 9, 2, 7, 4, 7, 8]\n",
      "Q: [[2, 3, 3, 3, 8, 1, 6, 5, 2, 3, 6], [7, 3], [9, 2, 2, 2, 7, 2, 5, 9, 9, 9, 2, 7], [7, 8]]\n"
     ]
    }
   ],
   "source": [
    "# this is to prove the above code with random ints\n",
    "\n",
    "import numpy as np\n",
    "\n",
    "L = np.random.randint(low = 1, high = 10, size = 30)\n",
    "L = list(L)\n",
    "\n",
    "print(f\"L: {L}\")\n",
    "\n",
    "Q = []\n",
    "split_number = 4\n",
    "\n",
    "while L.count(split_number) > 0:\n",
    "    Q.append(L[0:L.index(split_number)])\n",
    "    L = L[L.index(split_number)+1:]\n",
    "    if L.count(split_number) == 0:\n",
    "        Q.append(L)\n",
    "\n",
    "while [] in Q:\n",
    "    del Q[Q.index([])]\n",
    "\n",
    "\n",
    "print(f\"Q: {Q}\")"
   ]
  },
  {
   "cell_type": "code",
   "execution_count": null,
   "metadata": {},
   "outputs": [],
   "source": []
  }
 ],
 "metadata": {
  "kernelspec": {
   "display_name": "Python 3 (ipykernel)",
   "language": "python",
   "name": "python3"
  },
  "language_info": {
   "codemirror_mode": {
    "name": "ipython",
    "version": 3
   },
   "file_extension": ".py",
   "mimetype": "text/x-python",
   "name": "python",
   "nbconvert_exporter": "python",
   "pygments_lexer": "ipython3",
   "version": "3.9.7"
  },
  "toc": {
   "colors": {
    "hover_highlight": "#DAA520",
    "navigate_num": "#000000",
    "navigate_text": "#333333",
    "running_highlight": "#FF0000",
    "selected_highlight": "#FFD700",
    "sidebar_border": "#EEEEEE",
    "wrapper_background": "#FFFFFF"
   },
   "moveMenuLeft": true,
   "nav_menu": {
    "height": "66px",
    "width": "252px"
   },
   "navigate_menu": true,
   "number_sections": true,
   "sideBar": true,
   "skip_h1_title": false,
   "threshold": 4,
   "toc_cell": false,
   "toc_position": {},
   "toc_section_display": "block",
   "toc_window_display": false,
   "widenNotebook": false
  }
 },
 "nbformat": 4,
 "nbformat_minor": 2
}
