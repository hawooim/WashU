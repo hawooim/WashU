{
 "cells": [
  {
   "cell_type": "markdown",
   "metadata": {},
   "source": [
    "# Scope Practice"
   ]
  },
  {
   "cell_type": "code",
   "execution_count": 1,
   "metadata": {},
   "outputs": [
    {
     "name": "stdout",
     "output_type": "stream",
     "text": [
      "10\n",
      "None\n"
     ]
    }
   ],
   "source": [
    "# Exercise 1.a: What does this code print out?\n",
    "\n",
    "a = 10\n",
    "\n",
    "def plus_one(a):\n",
    "    a = a + 1\n",
    "    \n",
    "\n",
    "print(a)\n",
    "print(plus_one(a))"
   ]
  },
  {
   "cell_type": "code",
   "execution_count": 2,
   "metadata": {},
   "outputs": [
    {
     "name": "stdout",
     "output_type": "stream",
     "text": [
      "10\n",
      "None\n"
     ]
    }
   ],
   "source": [
    "# Exercise 1.b: What does this code print out?\n",
    "def plus_one(a):\n",
    "    a = a + 1\n",
    "\n",
    "a = 10\n",
    "print(a)\n",
    "print(plus_one(a))"
   ]
  },
  {
   "cell_type": "code",
   "execution_count": 3,
   "metadata": {},
   "outputs": [
    {
     "name": "stdout",
     "output_type": "stream",
     "text": [
      "10\n",
      "11\n"
     ]
    }
   ],
   "source": [
    "# Exercise 1.c: What does this code print out?\n",
    "def plus_one(a):\n",
    "    a = a + 1\n",
    "    return a\n",
    "\n",
    "a = 10\n",
    "print(a)\n",
    "print(plus_one(a))"
   ]
  },
  {
   "cell_type": "code",
   "execution_count": 4,
   "metadata": {},
   "outputs": [
    {
     "name": "stdout",
     "output_type": "stream",
     "text": [
      "10\n",
      "11\n"
     ]
    }
   ],
   "source": [
    "def plus_one(a):\n",
    "    a = a + 1\n",
    "    return a\n",
    "\n",
    "b = 10\n",
    "print(b)\n",
    "print(plus_one(b))"
   ]
  },
  {
   "cell_type": "code",
   "execution_count": 5,
   "metadata": {},
   "outputs": [
    {
     "name": "stdout",
     "output_type": "stream",
     "text": [
      "10\n",
      "11\n",
      "10\n"
     ]
    }
   ],
   "source": [
    "# Exercise 1.d: What does this code print out?\n",
    "def plus_one(a):\n",
    "    a = a + 1\n",
    "    return a\n",
    "\n",
    "a = 10\n",
    "print(a)\n",
    "print(plus_one(a))\n",
    "print(a)"
   ]
  },
  {
   "cell_type": "code",
   "execution_count": 6,
   "metadata": {},
   "outputs": [
    {
     "name": "stdout",
     "output_type": "stream",
     "text": [
      "10\n",
      "11\n",
      "11\n"
     ]
    }
   ],
   "source": [
    "# Exercise 1.e: What does this code print out?\n",
    "def plus_one(a):\n",
    "    a = a + 1\n",
    "    return a \n",
    "\n",
    "a = 10\n",
    "print(a)\n",
    "print(plus_one(a))\n",
    "a = plus_one(a)\n",
    "print(a)"
   ]
  },
  {
   "cell_type": "markdown",
   "metadata": {},
   "source": [
    "# Function Practice\n",
    "\n",
    "Define the following function:\n",
    "\n",
    "- Input: list of numbers\n",
    "- Output: sum of these numbers"
   ]
  },
  {
   "cell_type": "code",
   "execution_count": 7,
   "metadata": {},
   "outputs": [
    {
     "data": {
      "text/plain": [
       "10"
      ]
     },
     "execution_count": 7,
     "metadata": {},
     "output_type": "execute_result"
    }
   ],
   "source": [
    "#Write your code here\n",
    "L = [1,2,3,4]\n",
    "\n",
    "def sum_(L):\n",
    "    return sum(L)\n",
    "\n",
    "sum_(L)"
   ]
  },
  {
   "cell_type": "markdown",
   "metadata": {},
   "source": [
    "Define the following function:\n",
    "\n",
    "- Input: string and number\n",
    "- Output: The character of the string in the index given by number.  If this index does not exist, then return -1."
   ]
  },
  {
   "cell_type": "code",
   "execution_count": 8,
   "metadata": {},
   "outputs": [
    {
     "data": {
      "text/plain": [
       "'e'"
      ]
     },
     "execution_count": 8,
     "metadata": {},
     "output_type": "execute_result"
    }
   ],
   "source": [
    "#Write you code here\n",
    "number = 3\n",
    "string = \"base\"\n",
    "\n",
    "def str_index(number, string):\n",
    "    return string[number] if len(string) > number else -1\n",
    "\n",
    "str_index(number, string)"
   ]
  },
  {
   "cell_type": "markdown",
   "metadata": {},
   "source": [
    "Define the following function:\n",
    "\n",
    "- Input: list of string\n",
    "- Output single string with elements separated by  space\n",
    "\n",
    "Example:  string_join([\"test\", \"test\", \"test\"]) => \"test test test\""
   ]
  },
  {
   "cell_type": "code",
   "execution_count": 9,
   "metadata": {},
   "outputs": [
    {
     "data": {
      "text/plain": [
       "'1 2 3'"
      ]
     },
     "execution_count": 9,
     "metadata": {},
     "output_type": "execute_result"
    }
   ],
   "source": [
    "#Write you code here\n",
    "list_strings = ['1','2','3']\n",
    "\n",
    "def string_join(list_strings):\n",
    "    return \" \".join(list_strings)\n",
    "\n",
    "string_join(list_strings) #outpt = '1 2 3'"
   ]
  },
  {
   "cell_type": "markdown",
   "metadata": {},
   "source": [
    "Define the following function:\n",
    "    \n",
    "- Input: String separated by commas\n",
    "- Output: The sum of this numbers\n",
    "\n",
    "Example: sum_numbers_in_string(\"1,2,3,4\") => 10"
   ]
  },
  {
   "cell_type": "code",
   "execution_count": 10,
   "metadata": {},
   "outputs": [
    {
     "data": {
      "text/plain": [
       "21"
      ]
     },
     "execution_count": 10,
     "metadata": {},
     "output_type": "execute_result"
    }
   ],
   "source": [
    "#Write you code here\n",
    "str_nums = \"1,2,3,4,5,6\"\n",
    "\n",
    "def sum_numbers_in_string(str_nums):\n",
    "    num_list = str_nums.split(\",\")\n",
    "    num_list = [int(i) for i in num_list]\n",
    "    return sum(num_list)\n",
    "\n",
    "sum_numbers_in_string(str_nums) #output = 21"
   ]
  },
  {
   "cell_type": "markdown",
   "metadata": {},
   "source": [
    "Define the following functions:\n",
    "\n",
    "Read_File(file_name)\n",
    "\n",
    "- Input: file_name (materials/numbers.txt)\n",
    "- Output: list of all numbers as ints\n",
    "\n",
    "Mode(list_nums)\n",
    "\n",
    "- Input: list of nums\n",
    "- Ouput: mode of the list"
   ]
  },
  {
   "cell_type": "code",
   "execution_count": 11,
   "metadata": {
    "scrolled": true
   },
   "outputs": [
    {
     "name": "stdout",
     "output_type": "stream",
     "text": [
      "The numbers in the file are: \n",
      "[1, 2, 1, 4, 5, 34, 23, 23, 23, 1, 5, 5, 5, 2, 6, 7, 5, 3, 5, 43, 54, 23, 6, 42, 23, 1, 2, 3, 4, 5, 6, 7, 8, 1, 3, 5, 34, 23, 35, 56, 3, 2, 4, 2, 34, 23, 5, 6, 7, 87, 54, 234, 2, 1, 5, 45, 34, 2, 4, 6, 8, 9, 56, 34, 2, 4]\n"
     ]
    }
   ],
   "source": [
    "file_path = \"data/numbers.txt\"\n",
    "\n",
    "def Read_File(file_path):\n",
    "    \n",
    "    #Write your code here\n",
    "    with open(file_path, 'r') as file:\n",
    "        list_nums = file.read()\n",
    "        list_nums = list_nums.replace(\"\\n\", \",\").split(\",\")\n",
    "        list_nums.remove(\"\")\n",
    "        list_nums = [int(i) for i in list_nums]\n",
    "        print(f\"The numbers in the file are: \\n{list_nums}\")\n",
    "        return list_nums \n",
    "\n",
    "list_nums = Read_File(file_path) #list_nums"
   ]
  },
  {
   "cell_type": "code",
   "execution_count": 12,
   "metadata": {},
   "outputs": [
    {
     "data": {
      "text/plain": [
       "\"The mode is '5', and it appeared '10' times.\""
      ]
     },
     "execution_count": 12,
     "metadata": {},
     "output_type": "execute_result"
    }
   ],
   "source": [
    "def Mode(list_nums):\n",
    "    \n",
    "    #Write your code here\n",
    "    \n",
    "    mode_dict = dict.fromkeys(list_nums, 0)\n",
    "\n",
    "    for num in list_nums:\n",
    "        mode_dict[num] += 1\n",
    "    \n",
    "    for key, value in mode_dict.items():\n",
    "        if mode_dict[key] == max(mode_dict.values()):\n",
    "            return f\"The mode is '{key}', and it appeared '{value}' times.\"\n",
    "\n",
    "Mode(list_nums)"
   ]
  },
  {
   "cell_type": "markdown",
   "metadata": {},
   "source": [
    "String you functions together in the cell below"
   ]
  },
  {
   "cell_type": "code",
   "execution_count": 13,
   "metadata": {},
   "outputs": [
    {
     "name": "stdout",
     "output_type": "stream",
     "text": [
      "The numbers in the file are: \n",
      "[1, 2, 1, 4, 5, 34, 23, 23, 23, 1, 5, 5, 5, 2, 6, 7, 5, 3, 5, 43, 54, 23, 6, 42, 23, 1, 2, 3, 4, 5, 6, 7, 8, 1, 3, 5, 34, 23, 35, 56, 3, 2, 4, 2, 34, 23, 5, 6, 7, 87, 54, 234, 2, 1, 5, 45, 34, 2, 4, 6, 8, 9, 56, 34, 2, 4]\n"
     ]
    },
    {
     "data": {
      "text/plain": [
       "\"The mode is '5', and it appeared '10' times.\""
      ]
     },
     "execution_count": 13,
     "metadata": {},
     "output_type": "execute_result"
    }
   ],
   "source": [
    "#Write you code here\n",
    "list_nums = Read_File(file_path)\n",
    "Mode(list_nums)"
   ]
  },
  {
   "cell_type": "code",
   "execution_count": null,
   "metadata": {},
   "outputs": [],
   "source": []
  }
 ],
 "metadata": {
  "kernelspec": {
   "display_name": "Python 3 (ipykernel)",
   "language": "python",
   "name": "python3"
  },
  "language_info": {
   "codemirror_mode": {
    "name": "ipython",
    "version": 3
   },
   "file_extension": ".py",
   "mimetype": "text/x-python",
   "name": "python",
   "nbconvert_exporter": "python",
   "pygments_lexer": "ipython3",
   "version": "3.9.7"
  },
  "toc": {
   "nav_menu": {
    "height": "48px",
    "width": "252px"
   },
   "number_sections": true,
   "sideBar": true,
   "skip_h1_title": false,
   "toc_cell": false,
   "toc_position": {},
   "toc_section_display": "block",
   "toc_window_display": false
  }
 },
 "nbformat": 4,
 "nbformat_minor": 2
}
